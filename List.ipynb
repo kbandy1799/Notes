{
 "cells": [
  {
   "cell_type": "markdown",
   "metadata": {},
   "source": [
    "<p style=\"text-align:center\">\n",
    "PSY 394U <b>Python Coding for Psychological Sciences</b>, Fall 2017\n",
    "\n",
    "<img src=\"https://www.python.org/static/community_logos/python-logo-master-v3-TM.png\" alt=\"Python logo\" width=\"200\">\n",
    "</p>\n",
    "\n",
    "<h1 style=\"text-align:center\"> Lists </h1>\n",
    "\n",
    "<h4 style=\"text-align:center\"> September 28 - October 3, 2017 </h4>\n",
    "<hr style=\"height:5px;border:none\" />\n",
    "<p>"
   ]
  },
  {
   "cell_type": "markdown",
   "metadata": {},
   "source": [
    "# 1. What is a list?\n",
    "<hr style=\"height:1px;border:none\" />"
   ]
  },
  {
   "cell_type": "markdown",
   "metadata": {},
   "source": [
    "Imagine you have 4 variables with names."
   ]
  },
  {
   "cell_type": "code",
   "execution_count": 1,
   "metadata": {
    "collapsed": true
   },
   "outputs": [],
   "source": [
    "memberName1 = 'Paul'\n",
    "memberName2 = 'John'\n",
    "memberName3 = 'George'\n",
    "memberName4 = 'Ringo'"
   ]
  },
  {
   "cell_type": "markdown",
   "metadata": {},
   "source": [
    "And you can print them with"
   ]
  },
  {
   "cell_type": "code",
   "execution_count": 2,
   "metadata": {},
   "outputs": [
    {
     "name": "stdout",
     "output_type": "stream",
     "text": [
      "The band members are:\n",
      "   Paul\n",
      "   John\n",
      "   George\n",
      "   Ringo\n"
     ]
    }
   ],
   "source": [
    "print('The band members are:')\n",
    "print('   ' + memberName1)\n",
    "print('   ' + memberName2)\n",
    "print('   ' + memberName3)\n",
    "print('   ' + memberName4)"
   ]
  },
  {
   "cell_type": "markdown",
   "metadata": {},
   "source": [
    "But instead of creating 4 separate variables with similar names, you can store the same information in a container known as a list. Here is a program that does the same thing as above, using a **list**. "
   ]
  },
  {
   "cell_type": "markdown",
   "metadata": {},
   "source": [
    "`<BandMembers.py>`"
   ]
  },
  {
   "cell_type": "code",
   "execution_count": 4,
   "metadata": {},
   "outputs": [
    {
     "name": "stdout",
     "output_type": "stream",
     "text": [
      "The band members are:\n",
      "   Paul\n",
      "   John\n",
      "   George\n",
      "   Ringo\n"
     ]
    }
   ],
   "source": [
    "memberNames = ['Paul', 'John', 'George', 'Ringo']\n",
    "\n",
    "print('The band members are:')\n",
    "for iName in memberNames:\n",
    "    print('   ' + iName)"
   ]
  },
  {
   "cell_type": "markdown",
   "metadata": {},
   "source": [
    "If you want to add another item on the list, then you simply modify the list"
   ]
  },
  {
   "cell_type": "code",
   "execution_count": 1,
   "metadata": {},
   "outputs": [
    {
     "data": {
      "text/plain": [
       "['Paul', 'John', 'George', 'Ringo', 'Yoko']"
      ]
     },
     "execution_count": 1,
     "metadata": {},
     "output_type": "execute_result"
    }
   ],
   "source": [
    "memberNames = ['Paul', 'John', 'George', 'Ringo', 'Yoko']\n",
    "memberNames"
   ]
  },
  {
   "cell_type": "code",
   "execution_count": 2,
   "metadata": {},
   "outputs": [
    {
     "name": "stdout",
     "output_type": "stream",
     "text": [
      "The band members are:\n",
      "   Paul\n",
      "   John\n",
      "   George\n",
      "   Ringo\n",
      "   Yoko\n"
     ]
    }
   ],
   "source": [
    "print('The band members are:')\n",
    "for iName in memberNames:\n",
    "    print('   ' + iName)"
   ]
  },
  {
   "cell_type": "markdown",
   "metadata": {},
   "source": [
    "instead of creating another variable named `memberName5`. "
   ]
  },
  {
   "cell_type": "markdown",
   "metadata": {},
   "source": [
    "# 2. Content of a list\n",
    "<hr style=\"height:1px;border:none\" />"
   ]
  },
  {
   "cell_type": "markdown",
   "metadata": {},
   "source": [
    "A **list** consists of a collection of items separated by a comma (`,`) inside square brackets (`[ ]`). You can assign a name to a list in a same way as you name a variable. A list can contain numbers,"
   ]
  },
  {
   "cell_type": "code",
   "execution_count": 5,
   "metadata": {},
   "outputs": [
    {
     "name": "stdout",
     "output_type": "stream",
     "text": [
      "[1, 5, 23, 512, 1023.5]\n"
     ]
    }
   ],
   "source": [
    "numberList = [1, 5, 23, 512, 1023.5]\n",
    "print(numberList)"
   ]
  },
  {
   "cell_type": "markdown",
   "metadata": {},
   "source": [
    "Or strings,"
   ]
  },
  {
   "cell_type": "code",
   "execution_count": 6,
   "metadata": {},
   "outputs": [
    {
     "name": "stdout",
     "output_type": "stream",
     "text": [
      "['apple', 'orange', 'banana', 'pineapple']\n"
     ]
    }
   ],
   "source": [
    "fruits = ['apple', 'orange', 'banana', 'pineapple']\n",
    "print(fruits)"
   ]
  },
  {
   "cell_type": "markdown",
   "metadata": {},
   "source": [
    "Or mixture of them."
   ]
  },
  {
   "cell_type": "code",
   "execution_count": 7,
   "metadata": {},
   "outputs": [
    {
     "name": "stdout",
     "output_type": "stream",
     "text": [
      "['cashew', 'almond', 55, -10.25]\n"
     ]
    }
   ],
   "source": [
    "mixed = ['cashew', 'almond', 55, -10.25]\n",
    "print(mixed)"
   ]
  },
  {
   "cell_type": "markdown",
   "metadata": {},
   "source": [
    "You can also have a list inside another list."
   ]
  },
  {
   "cell_type": "code",
   "execution_count": 8,
   "metadata": {},
   "outputs": [
    {
     "name": "stdout",
     "output_type": "stream",
     "text": [
      "[10, 25, ['George', 'Ringo'], 'apple']\n"
     ]
    }
   ],
   "source": [
    "mixedList = [10, 25, ['George', 'Ringo'], 'apple']\n",
    "print(mixedList)"
   ]
  },
  {
   "cell_type": "markdown",
   "metadata": {},
   "source": [
    "To access an individual item of a list, you can use an index inside square brackets. For example,"
   ]
  },
  {
   "cell_type": "code",
   "execution_count": 9,
   "metadata": {},
   "outputs": [
    {
     "data": {
      "text/plain": [
       "'Paul'"
      ]
     },
     "execution_count": 9,
     "metadata": {},
     "output_type": "execute_result"
    }
   ],
   "source": [
    "memberNames = ['Paul', 'John', 'George', 'Ringo', 'Yoko']\n",
    "memberNames[0]"
   ]
  },
  {
   "cell_type": "code",
   "execution_count": 10,
   "metadata": {},
   "outputs": [
    {
     "data": {
      "text/plain": [
       "'John'"
      ]
     },
     "execution_count": 10,
     "metadata": {},
     "output_type": "execute_result"
    }
   ],
   "source": [
    "memberNames[1]"
   ]
  },
  {
   "cell_type": "code",
   "execution_count": 11,
   "metadata": {},
   "outputs": [
    {
     "data": {
      "text/plain": [
       "'Yoko'"
      ]
     },
     "execution_count": 11,
     "metadata": {},
     "output_type": "execute_result"
    }
   ],
   "source": [
    "memberNames[4]"
   ]
  },
  {
   "cell_type": "markdown",
   "metadata": {},
   "source": [
    "Notice that the indices start from 0 (referring to the first item on the list) and end with 4 (or, the number of items minus 1). You can use the **`len()`** function to figure out how many items are in a list. "
   ]
  },
  {
   "cell_type": "code",
   "execution_count": 12,
   "metadata": {},
   "outputs": [
    {
     "data": {
      "text/plain": [
       "5"
      ]
     },
     "execution_count": 12,
     "metadata": {},
     "output_type": "execute_result"
    }
   ],
   "source": [
    "len(memberNames)"
   ]
  },
  {
   "cell_type": "markdown",
   "metadata": {},
   "source": [
    "A list can contain just a single item"
   ]
  },
  {
   "cell_type": "code",
   "execution_count": 13,
   "metadata": {},
   "outputs": [
    {
     "data": {
      "text/plain": [
       "1"
      ]
     },
     "execution_count": 13,
     "metadata": {},
     "output_type": "execute_result"
    }
   ],
   "source": [
    "oneList = ['one']\n",
    "len(oneList)"
   ]
  },
  {
   "cell_type": "code",
   "execution_count": 14,
   "metadata": {},
   "outputs": [
    {
     "name": "stdout",
     "output_type": "stream",
     "text": [
      "['one']\n"
     ]
    }
   ],
   "source": [
    "print(oneList)"
   ]
  },
  {
   "cell_type": "markdown",
   "metadata": {},
   "source": [
    "Or  no item at all"
   ]
  },
  {
   "cell_type": "code",
   "execution_count": 15,
   "metadata": {},
   "outputs": [
    {
     "data": {
      "text/plain": [
       "0"
      ]
     },
     "execution_count": 15,
     "metadata": {},
     "output_type": "execute_result"
    }
   ],
   "source": [
    "emptyList = []\n",
    "len(emptyList)"
   ]
  },
  {
   "cell_type": "code",
   "execution_count": 16,
   "metadata": {},
   "outputs": [
    {
     "name": "stdout",
     "output_type": "stream",
     "text": [
      "[]\n"
     ]
    }
   ],
   "source": [
    "print(emptyList)"
   ]
  },
  {
   "cell_type": "markdown",
   "metadata": {},
   "source": [
    "If you have a list inside another list, then you can access individual values by using two indices. For example,"
   ]
  },
  {
   "cell_type": "code",
   "execution_count": 17,
   "metadata": {},
   "outputs": [
    {
     "data": {
      "text/plain": [
       "10"
      ]
     },
     "execution_count": 17,
     "metadata": {},
     "output_type": "execute_result"
    }
   ],
   "source": [
    "mixedList = [10, 25, ['George', 'Ringo'], 'apple']\n",
    "mixedList[0]"
   ]
  },
  {
   "cell_type": "code",
   "execution_count": 18,
   "metadata": {},
   "outputs": [
    {
     "data": {
      "text/plain": [
       "['George', 'Ringo']"
      ]
     },
     "execution_count": 18,
     "metadata": {},
     "output_type": "execute_result"
    }
   ],
   "source": [
    "mixedList[2]"
   ]
  },
  {
   "cell_type": "code",
   "execution_count": 19,
   "metadata": {},
   "outputs": [
    {
     "data": {
      "text/plain": [
       "'George'"
      ]
     },
     "execution_count": 19,
     "metadata": {},
     "output_type": "execute_result"
    }
   ],
   "source": [
    "mixedList[2][0]"
   ]
  },
  {
   "cell_type": "code",
   "execution_count": 20,
   "metadata": {},
   "outputs": [
    {
     "data": {
      "text/plain": [
       "'apple'"
      ]
     },
     "execution_count": 20,
     "metadata": {},
     "output_type": "execute_result"
    }
   ],
   "source": [
    "mixedList[3]"
   ]
  },
  {
   "cell_type": "markdown",
   "metadata": {},
   "source": [
    "Notice that `mixedList[2]` is a list containing two items. To access an individual item in that list, you add another index. \n",
    "\n",
    "In Python, you can also use a negative index to access individual items on a list. A negative index starts from -1, the last item on the list."
   ]
  },
  {
   "cell_type": "code",
   "execution_count": 21,
   "metadata": {},
   "outputs": [
    {
     "data": {
      "text/plain": [
       "'pineapple'"
      ]
     },
     "execution_count": 21,
     "metadata": {},
     "output_type": "execute_result"
    }
   ],
   "source": [
    "fruits = ['apple', 'orange', 'banana', 'pineapple']\n",
    "fruits[-1]"
   ]
  },
  {
   "cell_type": "code",
   "execution_count": 22,
   "metadata": {},
   "outputs": [
    {
     "data": {
      "text/plain": [
       "'apple'"
      ]
     },
     "execution_count": 22,
     "metadata": {},
     "output_type": "execute_result"
    }
   ],
   "source": [
    "fruits[-4]"
   ]
  },
  {
   "cell_type": "markdown",
   "metadata": {},
   "source": [
    "The negative index goes as far as the number of items on the list (in this example, -4). "
   ]
  },
  {
   "cell_type": "markdown",
   "metadata": {},
   "source": [
    "### Exercise\n",
    "1. You have a list\n",
    "```python\n",
    "animal = ['dog', 'cat', 'tiger', 'lion', 'moose', 'panda']\n",
    "```\n",
    "How do you access the following items using an index?\n",
    "  1. `'dog'`\n",
    "  2. `'lion'`\n",
    "  3. `'moose'`\n",
    "  \n",
    "2. You have a list\n",
    "```python\n",
    "listList = [['car', 'bus', 'bike'], [15, 1.5, 0, -5]]\n",
    "```\n",
    "How do you access the following items using an index?\n",
    "  1. `'bus'`\n",
    "  2. `'bike'`\n",
    "  3. `0`\n",
    "  4. `-5`"
   ]
  },
  {
   "cell_type": "markdown",
   "metadata": {},
   "source": [
    "# 3. Slicing a list\n",
    "<hr style=\"height:1px;border:none\" />"
   ]
  },
  {
   "cell_type": "markdown",
   "metadata": {},
   "source": [
    "Now, you can access multiple items on a list, to generate a sublist. This is known as *slicing*. For example, in a list"
   ]
  },
  {
   "cell_type": "code",
   "execution_count": 23,
   "metadata": {
    "collapsed": true
   },
   "outputs": [],
   "source": [
    "animal = ['dog', 'cat', 'tiger', 'lion', 'moose', 'panda', 'bear']"
   ]
  },
  {
   "cell_type": "markdown",
   "metadata": {},
   "source": [
    "you want to access a sublist consisting of `cat`, `tiger`, and `lion`. In that case, you can use"
   ]
  },
  {
   "cell_type": "code",
   "execution_count": 24,
   "metadata": {},
   "outputs": [
    {
     "data": {
      "text/plain": [
       "['cat', 'tiger', 'lion']"
      ]
     },
     "execution_count": 24,
     "metadata": {},
     "output_type": "execute_result"
    }
   ],
   "source": [
    "animal[1:4]"
   ]
  },
  {
   "cell_type": "markdown",
   "metadata": {},
   "source": [
    "This sublist consists of items `animal[1]`, `animal[2]`, and `animal[3]`. But not `animal[4]`. Inside the square brackets (i.e., `1:4`) is often referred as a **slice** (as opposed to an index, which is a single value). In a slice, the first number corresponds to where the slice starts, and the second number corresponds to one after the slice ends. Here are more examples of slices"
   ]
  },
  {
   "cell_type": "code",
   "execution_count": 25,
   "metadata": {},
   "outputs": [
    {
     "data": {
      "text/plain": [
       "['moose', 'panda', 'bear']"
      ]
     },
     "execution_count": 25,
     "metadata": {},
     "output_type": "execute_result"
    }
   ],
   "source": [
    "animal[4:7]"
   ]
  },
  {
   "cell_type": "code",
   "execution_count": 26,
   "metadata": {},
   "outputs": [
    {
     "data": {
      "text/plain": [
       "['dog']"
      ]
     },
     "execution_count": 26,
     "metadata": {},
     "output_type": "execute_result"
    }
   ],
   "source": [
    "animal[0:1]"
   ]
  },
  {
   "cell_type": "markdown",
   "metadata": {},
   "source": [
    "You can omit one of the numbers when you write a slice. If you omit the first number, then 0 is used. If you omit the second number, then the length of the list is used. For example,"
   ]
  },
  {
   "cell_type": "code",
   "execution_count": 27,
   "metadata": {},
   "outputs": [
    {
     "data": {
      "text/plain": [
       "['dog', 'cat', 'tiger', 'lion', 'moose']"
      ]
     },
     "execution_count": 27,
     "metadata": {},
     "output_type": "execute_result"
    }
   ],
   "source": [
    "animal[:5]"
   ]
  },
  {
   "cell_type": "code",
   "execution_count": 28,
   "metadata": {},
   "outputs": [
    {
     "data": {
      "text/plain": [
       "['panda', 'bear']"
      ]
     },
     "execution_count": 28,
     "metadata": {},
     "output_type": "execute_result"
    }
   ],
   "source": [
    "animal[5:]"
   ]
  },
  {
   "cell_type": "markdown",
   "metadata": {},
   "source": [
    "Notice that `animal[:5]` is the same as `animal[0:5]`, whereas `animal[5:]` is the same as `animal[5:7]`.\n",
    "\n",
    "You can also create a sublist with every other items in a list. For example,"
   ]
  },
  {
   "cell_type": "code",
   "execution_count": 29,
   "metadata": {},
   "outputs": [
    {
     "data": {
      "text/plain": [
       "['dog', 'tiger', 'moose']"
      ]
     },
     "execution_count": 29,
     "metadata": {},
     "output_type": "execute_result"
    }
   ],
   "source": [
    "animal[0:6:2]"
   ]
  },
  {
   "cell_type": "markdown",
   "metadata": {},
   "source": [
    "The third number in the slice specifies the step between items. For example, `0:6:2` means 0, 2, and 4 (notice elements are separated by 2 in their indices)."
   ]
  },
  {
   "cell_type": "markdown",
   "metadata": {},
   "source": [
    "### Exercise\n",
    "1. **Animal list**. In the list **`animal`** described above, write a slice that accesses the following items\n",
    "  1. `'dog', 'cat'`\n",
    "  2. `'moose', 'panda'`\n",
    "  3. `'moose', 'panda', 'bear'`\n",
    "  4. `'panda', 'bear'`\n",
    "\n",
    "2.\t**Slicing nested lists**. You have a list\n",
    "```python\n",
    "runs = [['A', 'B', 'C'],['D', 'E', 'F'], [38, 42, 44]]\n",
    "```\n",
    "Write an index and/or a slice to access the following items\n",
    "  1. `['A', 'B', 'C']`\n",
    "  2. `['B', 'C']`\n",
    "  3. `['D', 'E']`\n",
    "  4. `[38, 42]`"
   ]
  },
  {
   "cell_type": "markdown",
   "metadata": {},
   "source": [
    "# 4. Manipulating a list\n",
    "<hr style=\"height:1px;border:none\" />"
   ]
  },
  {
   "cell_type": "markdown",
   "metadata": {},
   "source": [
    "You can change the value of individual items on a list, just the same way as changing a variable."
   ]
  },
  {
   "cell_type": "code",
   "execution_count": 30,
   "metadata": {},
   "outputs": [
    {
     "data": {
      "text/plain": [
       "['lion', 'tiger', 'leopard', 'panther']"
      ]
     },
     "execution_count": 30,
     "metadata": {},
     "output_type": "execute_result"
    }
   ],
   "source": [
    "bigCats = ['lion', 'tiger', 'leopard', 'cheetah']\n",
    "bigCats[3] = 'panther'\n",
    "bigCats"
   ]
  },
  {
   "cell_type": "code",
   "execution_count": 31,
   "metadata": {},
   "outputs": [
    {
     "data": {
      "text/plain": [
       "['lion', 'lynx', 'leopard', 'panther']"
      ]
     },
     "execution_count": 31,
     "metadata": {},
     "output_type": "execute_result"
    }
   ],
   "source": [
    "bigCats[1] = 'lynx'\n",
    "bigCats"
   ]
  },
  {
   "cell_type": "markdown",
   "metadata": {},
   "source": [
    "You can concatenate two lists with a `+` operator."
   ]
  },
  {
   "cell_type": "code",
   "execution_count": 32,
   "metadata": {},
   "outputs": [
    {
     "data": {
      "text/plain": [
       "['kale', 'tomato', 'spinach', 'apple', 'lemon', 'pear']"
      ]
     },
     "execution_count": 32,
     "metadata": {},
     "output_type": "execute_result"
    }
   ],
   "source": [
    "vege = ['kale', 'tomato', 'spinach']\n",
    "fruits = ['apple', 'lemon', 'pear']\n",
    "produce = vege + fruits\n",
    "produce"
   ]
  },
  {
   "cell_type": "markdown",
   "metadata": {},
   "source": [
    "You can repeat a list with a `*` operator."
   ]
  },
  {
   "cell_type": "code",
   "execution_count": 33,
   "metadata": {},
   "outputs": [
    {
     "data": {
      "text/plain": [
       "['A', 'B', 'C', 'A', 'B', 'C', 'A', 'B', 'C']"
      ]
     },
     "execution_count": 33,
     "metadata": {},
     "output_type": "execute_result"
    }
   ],
   "source": [
    "conditions = ['A', 'B', 'C']\n",
    "taskDesign = conditions * 3\n",
    "taskDesign"
   ]
  },
  {
   "cell_type": "markdown",
   "metadata": {},
   "source": [
    "You can delete items with a **`del`** statement and the item(s) to be deleted. You can use either an index or a slice."
   ]
  },
  {
   "cell_type": "code",
   "execution_count": 34,
   "metadata": {},
   "outputs": [
    {
     "data": {
      "text/plain": [
       "['dog', 'cat', 'lion', 'moose', 'panda', 'bear']"
      ]
     },
     "execution_count": 34,
     "metadata": {},
     "output_type": "execute_result"
    }
   ],
   "source": [
    "animal = ['dog', 'cat', 'tiger', 'lion', 'moose', 'panda', 'bear']\n",
    "del animal[2]\n",
    "animal"
   ]
  },
  {
   "cell_type": "code",
   "execution_count": 35,
   "metadata": {},
   "outputs": [
    {
     "data": {
      "text/plain": [
       "['moose', 'panda', 'bear']"
      ]
     },
     "execution_count": 35,
     "metadata": {},
     "output_type": "execute_result"
    }
   ],
   "source": [
    "del animal[:3]\n",
    "animal"
   ]
  },
  {
   "cell_type": "markdown",
   "metadata": {},
   "source": [
    "### Exercise\n",
    "1. You have a list\n",
    "```python\n",
    "minutes = [0, 15, 30, 45, 60, 75, 90, 105, 120]\n",
    "```\n",
    "  Do the following\n",
    "  1. Delete numbers greater than or equal to 60.\n",
    "  2. Then, replace 45 with 40\n",
    "  3. Then, repeat the list 3 times\n",
    "\n",
    "2.\t**`List with repeated numbers`**. Write a function that takes a list of numbers as input, and returns a new list with each item in the original list repeated a number of times based on its value. In other words, if the input is \n",
    "```python\n",
    "[4, 3, 2, 3]\n",
    "```\n",
    "Then the function returns a list\n",
    "```python\n",
    "[4, 4, 4, 4, 3, 3, 3, 2, 2, 3, 3, 3]\n",
    "```"
   ]
  },
  {
   "cell_type": "markdown",
   "metadata": {},
   "source": [
    "# 5. Using a list for a `for` loop\n",
    "<hr style=\"height:1px;border:none\" />"
   ]
  },
  {
   "cell_type": "markdown",
   "metadata": {},
   "source": [
    "Remember in a `for` loop, we used a `range()` function to describe values inside the `for` loop. Instead of a `range` function, we can use a list in a `for` loop too."
   ]
  },
  {
   "cell_type": "markdown",
   "metadata": {},
   "source": [
    "`<ForLoopWithNumList.py>`"
   ]
  },
  {
   "cell_type": "code",
   "execution_count": 37,
   "metadata": {},
   "outputs": [
    {
     "name": "stdout",
     "output_type": "stream",
     "text": [
      "Elapsed time = 0\n",
      "Elapsed time = 15\n",
      "Elapsed time = 30\n",
      "Elapsed time = 45\n",
      "Elapsed time = 60\n",
      "Elapsed time = 75\n",
      "Elapsed time = 90\n",
      "Elapsed time = 105\n",
      "Elapsed time = 120\n"
     ]
    }
   ],
   "source": [
    "minutes = [0, 15, 30, 45, 60, 75, 90, 105, 120]\n",
    "for iMin in minutes:\n",
    "    print('Elapsed time = ' + str(iMin))"
   ]
  },
  {
   "cell_type": "markdown",
   "metadata": {},
   "source": [
    "Notice that you can use each items in the list individually inside the `for` loop. Here is another example of using a list for a `for` loop."
   ]
  },
  {
   "cell_type": "markdown",
   "metadata": {},
   "source": [
    "`<ForLoopWithStrList.py>`"
   ]
  },
  {
   "cell_type": "code",
   "execution_count": 39,
   "metadata": {},
   "outputs": [
    {
     "name": "stdout",
     "output_type": "stream",
     "text": [
      "Today's special is Chili\n",
      "Today's special is Hot Dog\n",
      "Today's special is Salad\n",
      "Today's special is Tacos\n",
      "Today's special is Pizza\n"
     ]
    }
   ],
   "source": [
    "menu = ['Chili', 'Hot Dog', 'Salad', 'Tacos', 'Pizza']\n",
    "for iMenu in menu:\n",
    "    print(\"Today's special is \" + iMenu)"
   ]
  },
  {
   "cell_type": "markdown",
   "metadata": {},
   "source": [
    "Whether to use a list or a `range` function is up to you. In some cases, it makes sense to use a `range` function for a `for` loop."
   ]
  },
  {
   "cell_type": "markdown",
   "metadata": {},
   "source": [
    "`<ForLoopWithRange.py>`"
   ]
  },
  {
   "cell_type": "code",
   "execution_count": 41,
   "metadata": {},
   "outputs": [
    {
     "name": "stdout",
     "output_type": "stream",
     "text": [
      "Monday's special is Chili\n",
      "Tuesday's special is Hot Dog\n",
      "Wednesday's special is Salad\n",
      "Thursday's special is Tacos\n",
      "Friday's special is Pizza\n"
     ]
    }
   ],
   "source": [
    "day = ['Monday', 'Tuesday', 'Wednesday', 'Thursday', 'Friday']\n",
    "menu = ['Chili', 'Hot Dog', 'Salad', 'Tacos', 'Pizza']\n",
    "for i in range(len(day)):\n",
    "    print(day[i] + \"'s special is \" + menu[i])"
   ]
  },
  {
   "cell_type": "markdown",
   "metadata": {},
   "source": [
    "There is a way to use both an index and an item in a list using the **`enumerate`** function. For example,"
   ]
  },
  {
   "cell_type": "markdown",
   "metadata": {},
   "source": [
    "`<ForLoopWithEnumerate.py>`"
   ]
  },
  {
   "cell_type": "code",
   "execution_count": 43,
   "metadata": {},
   "outputs": [
    {
     "name": "stdout",
     "output_type": "stream",
     "text": [
      "Monday's special is Chili\n",
      "Tuesday's special is Hot Dog\n",
      "Wednesday's special is Salad\n",
      "Thursday's special is Tacos\n",
      "Friday's special is Pizza\n"
     ]
    }
   ],
   "source": [
    "day = ['Monday', 'Tuesday', 'Wednesday', 'Thursday', 'Friday']\n",
    "menu = ['Chili', 'Hot Dog', 'Salad', 'Tacos', 'Pizza']\n",
    "for i, iDay in enumerate(day):\n",
    "    print(iDay + \"'s special is \" + menu[i])"
   ]
  },
  {
   "cell_type": "markdown",
   "metadata": {},
   "source": [
    "The variable **`i`** holds the index of the elements on the list day, whereas **`iDay`** holds the value of the elements. "
   ]
  },
  {
   "cell_type": "markdown",
   "metadata": {},
   "source": [
    "### Exercise\n",
    "1. **Experiment info**. You have the following list of study subjects\n",
    "```python\n",
    "subjectID = ['001', '003', '004', '006', '009', '012']\n",
    "```\n",
    "along with the experimental paradigm codes used for these subjects\n",
    "```python\n",
    "expCode = [0, 1, 0, 2, 3, 2]\n",
    "```\n",
    "The paradigm code can be used as the index to look up the list of paradigms\n",
    "```python\n",
    "expParadigm = ['congruent', 'incongruent', 'mixed', 'null']\n",
    "```\n",
    "For example, if the paradigm code is 2, then the corresponding paradigm can be found as `expParadigm[2]`$\\rightarrow$`'mixed'`. Write a program with a `for` loop with `enumerate()` function to produce a table print out of subject IDs and the corresponding experimental paradigms.\n",
    "\n"
   ]
  },
  {
   "cell_type": "markdown",
   "metadata": {},
   "source": [
    "# 6. A string is list-like\n",
    "<hr style=\"height:1px;border:none\" />"
   ]
  },
  {
   "cell_type": "markdown",
   "metadata": {},
   "source": [
    "You can also use a string for a `for` loop. This is because a string is similar to a list. "
   ]
  },
  {
   "cell_type": "code",
   "execution_count": 44,
   "metadata": {},
   "outputs": [
    {
     "data": {
      "text/plain": [
       "'P'"
      ]
     },
     "execution_count": 44,
     "metadata": {},
     "output_type": "execute_result"
    }
   ],
   "source": [
    "text = 'Python is fun!'\n",
    "text[0]"
   ]
  },
  {
   "cell_type": "code",
   "execution_count": 45,
   "metadata": {},
   "outputs": [
    {
     "data": {
      "text/plain": [
       "'Python'"
      ]
     },
     "execution_count": 45,
     "metadata": {},
     "output_type": "execute_result"
    }
   ],
   "source": [
    "text[:6]"
   ]
  },
  {
   "cell_type": "code",
   "execution_count": 46,
   "metadata": {},
   "outputs": [
    {
     "data": {
      "text/plain": [
       "'fun!'"
      ]
     },
     "execution_count": 46,
     "metadata": {},
     "output_type": "execute_result"
    }
   ],
   "source": [
    "text[-4:]"
   ]
  },
  {
   "cell_type": "markdown",
   "metadata": {},
   "source": [
    "So, you can do the following."
   ]
  },
  {
   "cell_type": "markdown",
   "metadata": {},
   "source": [
    "`<ForLoopWithString.py>`"
   ]
  },
  {
   "cell_type": "code",
   "execution_count": null,
   "metadata": {
    "collapsed": true
   },
   "outputs": [],
   "source": [
    "text = 'This string is written vertically'\n",
    "for i in text:\n",
    "    print(i)"
   ]
  },
  {
   "cell_type": "markdown",
   "metadata": {},
   "source": [
    "Each letter from the string text is used inside the `for` loop."
   ]
  },
  {
   "cell_type": "markdown",
   "metadata": {},
   "source": [
    "### Exercise\n",
    "1. **Waitlist**. A waitlist for a flight for a certain airline only shows the first 3 letters of the last name of passengers. The last names of the passengers on the waitlist are\n",
    "```\n",
    "Albert\n",
    "Brewer\n",
    "Chu\n",
    "Delgado\n",
    "Ellsworth\n",
    "Franco\n",
    "```\n",
    "  Write a program that displays only the first 3 letters of the last names."
   ]
  },
  {
   "cell_type": "markdown",
   "metadata": {},
   "source": [
    "# 7. `in` and `not in` operators\n",
    "<hr style=\"height:1px;border:none\" />"
   ]
  },
  {
   "cell_type": "markdown",
   "metadata": {},
   "source": [
    "A useful operator for a list is the **`in`** and **`not in`** operators. The **`in`** operator\n",
    "evaluates whether an element is in a list. For example,"
   ]
  },
  {
   "cell_type": "code",
   "execution_count": 1,
   "metadata": {},
   "outputs": [
    {
     "data": {
      "text/plain": [
       "False"
      ]
     },
     "execution_count": 1,
     "metadata": {},
     "output_type": "execute_result"
    }
   ],
   "source": [
    "memberNames = ['Paul', 'John', 'George', 'Ringo']\n",
    "'Yoko' in memberNames"
   ]
  },
  {
   "cell_type": "code",
   "execution_count": 2,
   "metadata": {},
   "outputs": [
    {
     "data": {
      "text/plain": [
       "True"
      ]
     },
     "execution_count": 2,
     "metadata": {},
     "output_type": "execute_result"
    }
   ],
   "source": [
    "'John' in memberNames"
   ]
  },
  {
   "cell_type": "markdown",
   "metadata": {},
   "source": [
    "The name `'Yoko'` is not part of the list **`memberNames`**, thus `False` is returned.\n",
    "On the other hand, `'John'` is part of the list, so `True` is returned. Similarly, you\n",
    "can use a **`not in`** operator to evaluate if an item is in a list."
   ]
  },
  {
   "cell_type": "code",
   "execution_count": 3,
   "metadata": {},
   "outputs": [
    {
     "data": {
      "text/plain": [
       "True"
      ]
     },
     "execution_count": 3,
     "metadata": {},
     "output_type": "execute_result"
    }
   ],
   "source": [
    "'Yoko' not in memberNames"
   ]
  },
  {
   "cell_type": "markdown",
   "metadata": {},
   "source": [
    "You can use `in` and `not in` operators as part of a `while` loop or an `if`\n",
    "statement. Here is an example."
   ]
  },
  {
   "cell_type": "markdown",
   "metadata": {},
   "source": [
    "`<InExample.py>`"
   ]
  },
  {
   "cell_type": "code",
   "execution_count": null,
   "metadata": {
    "collapsed": true
   },
   "outputs": [],
   "source": [
    "nameList = ['Sarah', 'Paul', 'Jill', 'Robert']\n",
    "print('What is your name?')\n",
    "name = input()\n",
    "while name not in nameList:\n",
    "    print('Your name is not on the list.')\n",
    "    print('What is your name again?')\n",
    "    name = input()\n",
    "\n",
    "print('Welcome to the party, ' + name + '!')"
   ]
  },
  {
   "cell_type": "markdown",
   "metadata": {},
   "source": [
    "### Exercise\n",
    "1. **Passwords**. You have a list of passwords\n",
    "```python\n",
    "passwords = ['aaargh’, ‘fjfjkdg’, ‘qwerty’]\n",
    "```\n",
    "Write a program that keeps asking for a password until a correct password on the list is entered. When a correct password is entered, the program prints out “Access granted”."
   ]
  },
  {
   "cell_type": "markdown",
   "metadata": {},
   "source": [
    "# 8. Using methods\n",
    "<hr style=\"height:1px;border:none\" />"
   ]
  },
  {
   "cell_type": "markdown",
   "metadata": {},
   "source": [
    "A method is similar to a function, but it is associated with a particular list. There\n",
    "are a number of methods you can use for the list data type. Here are some\n",
    "examples."
   ]
  },
  {
   "cell_type": "markdown",
   "metadata": {},
   "source": [
    "### `index()` method\n",
    "You can find a particular value in a list using the **`index()`** method. This method\n",
    "returns the index corresponding to the value. For example,"
   ]
  },
  {
   "cell_type": "code",
   "execution_count": 5,
   "metadata": {},
   "outputs": [
    {
     "data": {
      "text/plain": [
       "2"
      ]
     },
     "execution_count": 5,
     "metadata": {},
     "output_type": "execute_result"
    }
   ],
   "source": [
    "memberNames = ['Paul', 'John', 'George', 'Ringo']\n",
    "memberNames.index('George')"
   ]
  },
  {
   "cell_type": "markdown",
   "metadata": {},
   "source": [
    "The index for the value `'George'` is 2. If you have more than one items with the\n",
    "same value, the `index()` method only returns the index for the first item."
   ]
  },
  {
   "cell_type": "code",
   "execution_count": 6,
   "metadata": {},
   "outputs": [
    {
     "data": {
      "text/plain": [
       "1"
      ]
     },
     "execution_count": 6,
     "metadata": {},
     "output_type": "execute_result"
    }
   ],
   "source": [
    "memberNames = ['Bruce', 'Chris', 'Chris', 'Chris', 'Steven']\n",
    "memberNames.index('Chris')"
   ]
  },
  {
   "cell_type": "markdown",
   "metadata": {},
   "source": [
    "If there is no corresponding value is found in the list, it gives you an error."
   ]
  },
  {
   "cell_type": "code",
   "execution_count": 7,
   "metadata": {},
   "outputs": [
    {
     "ename": "ValueError",
     "evalue": "'Yoko' is not in list",
     "output_type": "error",
     "traceback": [
      "\u001b[1;31m---------------------------------------------------------------------------\u001b[0m",
      "\u001b[1;31mValueError\u001b[0m                                Traceback (most recent call last)",
      "\u001b[1;32m<ipython-input-7-e277fc66d1ff>\u001b[0m in \u001b[0;36m<module>\u001b[1;34m()\u001b[0m\n\u001b[0;32m      1\u001b[0m \u001b[0mmemberNames\u001b[0m \u001b[1;33m=\u001b[0m \u001b[1;33m[\u001b[0m\u001b[1;34m'Paul'\u001b[0m\u001b[1;33m,\u001b[0m \u001b[1;34m'John'\u001b[0m\u001b[1;33m,\u001b[0m \u001b[1;34m'George'\u001b[0m\u001b[1;33m,\u001b[0m \u001b[1;34m'Ringo'\u001b[0m\u001b[1;33m]\u001b[0m\u001b[1;33m\u001b[0m\u001b[0m\n\u001b[1;32m----> 2\u001b[1;33m \u001b[0mmemberNames\u001b[0m\u001b[1;33m.\u001b[0m\u001b[0mindex\u001b[0m\u001b[1;33m(\u001b[0m\u001b[1;34m'Yoko'\u001b[0m\u001b[1;33m)\u001b[0m\u001b[1;33m\u001b[0m\u001b[0m\n\u001b[0m",
      "\u001b[1;31mValueError\u001b[0m: 'Yoko' is not in list"
     ]
    }
   ],
   "source": [
    "memberNames = ['Paul', 'John', 'George', 'Ringo']\n",
    "memberNames.index('Yoko')"
   ]
  },
  {
   "cell_type": "markdown",
   "metadata": {},
   "source": [
    "### `append()`, `insert()` and `remove()` methods\n",
    "To add items to a list, the **`append()`** and **`insert()`** methods can be useful. The **`append()`** method adds an item at the end of the list."
   ]
  },
  {
   "cell_type": "code",
   "execution_count": 8,
   "metadata": {},
   "outputs": [
    {
     "data": {
      "text/plain": [
       "['Paul', 'John', 'George', 'Ringo', 'Yoko']"
      ]
     },
     "execution_count": 8,
     "metadata": {},
     "output_type": "execute_result"
    }
   ],
   "source": [
    "memberNames = ['Paul', 'John', 'George', 'Ringo']\n",
    "memberNames.append('Yoko')\n",
    "memberNames"
   ]
  },
  {
   "cell_type": "markdown",
   "metadata": {},
   "source": [
    "If you want to add an item to a particular location on the list, you can use the\n",
    "**`insert()`** method, with the location to be inserted specified. For example,"
   ]
  },
  {
   "cell_type": "code",
   "execution_count": 9,
   "metadata": {},
   "outputs": [
    {
     "data": {
      "text/plain": [
       "['Paul', 'Yoko', 'John', 'George', 'Ringo']"
      ]
     },
     "execution_count": 9,
     "metadata": {},
     "output_type": "execute_result"
    }
   ],
   "source": [
    "memberNames = ['Paul', 'John', 'George', 'Ringo']\n",
    "memberNames.insert(1,'Yoko')\n",
    "memberNames"
   ]
  },
  {
   "cell_type": "markdown",
   "metadata": {},
   "source": [
    "To remove an item from a list, you can use the **`remove()`** method. One\n",
    "advantage of the `remove()` method, as opposed to the `del` statement, is that\n",
    "you don't need to know the index of the item to be deleted. For example,"
   ]
  },
  {
   "cell_type": "code",
   "execution_count": 10,
   "metadata": {},
   "outputs": [
    {
     "data": {
      "text/plain": [
       "['cat', 'dog', 'panda', 'giraffe']"
      ]
     },
     "execution_count": 10,
     "metadata": {},
     "output_type": "execute_result"
    }
   ],
   "source": [
    "mammal = ['cat', 'dog', 'panda', 'owl', 'giraffe']\n",
    "mammal.remove('owl')\n",
    "mammal"
   ]
  },
  {
   "cell_type": "markdown",
   "metadata": {},
   "source": [
    "If there are multiple items with the same value on the list, the `remove()` method\n",
    "removes only the first item."
   ]
  },
  {
   "cell_type": "code",
   "execution_count": 11,
   "metadata": {},
   "outputs": [
    {
     "data": {
      "text/plain": [
       "['dog', 'cat', 'cat', 'tiger']"
      ]
     },
     "execution_count": 11,
     "metadata": {},
     "output_type": "execute_result"
    }
   ],
   "source": [
    "mammal = ['cat', 'dog', 'cat', 'cat', 'tiger']\n",
    "mammal.remove('cat')\n",
    "mammal"
   ]
  },
  {
   "cell_type": "markdown",
   "metadata": {},
   "source": [
    "### Exercise\n",
    "1. **Removing cats**. You have a list\n",
    "```python\n",
    "mammal = ['cat', 'dog', 'cat', 'cat', 'tiger']\n",
    "```\n",
    "Write a program to remove all `'cat'` from this list.\n",
    "2. **Cat-lion substitution**. You have the same list as 1. Write a program to\n",
    "replace all `'cat'` with `'lion'` on the list."
   ]
  },
  {
   "cell_type": "markdown",
   "metadata": {},
   "source": [
    "### `sort()` method\n",
    "You can sort the items on a list with the **`sort()`** method. For example,"
   ]
  },
  {
   "cell_type": "code",
   "execution_count": 12,
   "metadata": {},
   "outputs": [
    {
     "data": {
      "text/plain": [
       "[-15, -5, 2, 3, 18, 250]"
      ]
     },
     "execution_count": 12,
     "metadata": {},
     "output_type": "execute_result"
    }
   ],
   "source": [
    "numbers = [-5, -15, 2, 250, 3, 18]\n",
    "numbers.sort()\n",
    "numbers"
   ]
  },
  {
   "cell_type": "code",
   "execution_count": 13,
   "metadata": {},
   "outputs": [
    {
     "data": {
      "text/plain": [
       "['cat', 'dog', 'horse', 'lion', 'panda']"
      ]
     },
     "execution_count": 13,
     "metadata": {},
     "output_type": "execute_result"
    }
   ],
   "source": [
    "mammal = ['dog', 'cat', 'panda', 'lion', 'horse']\n",
    "mammal.sort()\n",
    "mammal"
   ]
  },
  {
   "cell_type": "markdown",
   "metadata": {},
   "source": [
    "One thing you need to remember is that upper case letters come before lower\n",
    "case letters by default. For example,"
   ]
  },
  {
   "cell_type": "code",
   "execution_count": 14,
   "metadata": {},
   "outputs": [
    {
     "data": {
      "text/plain": [
       "['Tasmanian devil', 'kangaroo', 'koala', 'possum']"
      ]
     },
     "execution_count": 14,
     "metadata": {},
     "output_type": "execute_result"
    }
   ],
   "source": [
    "marsupial = ['koala', 'kangaroo', 'Tasmanian devil', 'possum']\n",
    "marsupial.sort()\n",
    "marsupial"
   ]
  },
  {
   "cell_type": "markdown",
   "metadata": {},
   "source": [
    "To ignore the case, you have to use **`key=str.lower`** option in the `sort()`\n",
    "method."
   ]
  },
  {
   "cell_type": "code",
   "execution_count": 15,
   "metadata": {},
   "outputs": [
    {
     "data": {
      "text/plain": [
       "['kangaroo', 'koala', 'possum', 'Tasmanian devil']"
      ]
     },
     "execution_count": 15,
     "metadata": {},
     "output_type": "execute_result"
    }
   ],
   "source": [
    "marsupial = ['koala', 'kangaroo', 'Tasmanian devil', 'possum']\n",
    "marsupial.sort(key=str.lower)\n",
    "marsupial"
   ]
  },
  {
   "cell_type": "markdown",
   "metadata": {},
   "source": [
    "# 9. A list is actually a reference\n",
    "<hr style=\"height:1px;border:none\" />"
   ]
  },
  {
   "cell_type": "markdown",
   "metadata": {},
   "source": [
    "Remember when we learned about variables, we can replace the value of a\n",
    "variable."
   ]
  },
  {
   "cell_type": "code",
   "execution_count": 16,
   "metadata": {
    "collapsed": true
   },
   "outputs": [],
   "source": [
    "a = 100\n",
    "# making a copy of the variable a\n",
    "b = a"
   ]
  },
  {
   "cell_type": "code",
   "execution_count": 17,
   "metadata": {},
   "outputs": [
    {
     "data": {
      "text/plain": [
       "500"
      ]
     },
     "execution_count": 17,
     "metadata": {},
     "output_type": "execute_result"
    }
   ],
   "source": [
    "a = 500\n",
    "a"
   ]
  },
  {
   "cell_type": "code",
   "execution_count": 18,
   "metadata": {},
   "outputs": [
    {
     "data": {
      "text/plain": [
       "100"
      ]
     },
     "execution_count": 18,
     "metadata": {},
     "output_type": "execute_result"
    }
   ],
   "source": [
    "b"
   ]
  },
  {
   "cell_type": "markdown",
   "metadata": {},
   "source": [
    "Even if the variable `a` changes, the variable `b` remains the same. How about a\n",
    "list?"
   ]
  },
  {
   "cell_type": "code",
   "execution_count": 20,
   "metadata": {
    "collapsed": true
   },
   "outputs": [],
   "source": [
    "c = [100, 500, 1000]\n",
    "# making a copy of the list c\n",
    "d = c"
   ]
  },
  {
   "cell_type": "code",
   "execution_count": 21,
   "metadata": {},
   "outputs": [
    {
     "data": {
      "text/plain": [
       "[500, 500, 1000]"
      ]
     },
     "execution_count": 21,
     "metadata": {},
     "output_type": "execute_result"
    }
   ],
   "source": [
    "c[0] = 500\n",
    "c"
   ]
  },
  {
   "cell_type": "code",
   "execution_count": 22,
   "metadata": {},
   "outputs": [
    {
     "data": {
      "text/plain": [
       "[500, 500, 1000]"
      ]
     },
     "execution_count": 22,
     "metadata": {},
     "output_type": "execute_result"
    }
   ],
   "source": [
    "d"
   ]
  },
  {
   "cell_type": "markdown",
   "metadata": {},
   "source": [
    "Did you notice that, if we change a value in the list `c`, the list `d` is also changed? This is because, in Python, a list does not store the actual values of the list, but a reference to the list; metaphorically speaking, the location where the values are stored. If you execute `d = c`, that means both lists are pointing to the same reference (of the same list). Thus, changing a value in the list `c` also changes the same value in the list `d`. This becomes problematic if you pass a list to a function."
   ]
  },
  {
   "cell_type": "markdown",
   "metadata": {},
   "source": [
    "`<ListInFunction.py>`"
   ]
  },
  {
   "cell_type": "code",
   "execution_count": 25,
   "metadata": {
    "collapsed": true
   },
   "outputs": [],
   "source": [
    "def append_item(origList):\n",
    "    newList = origList\n",
    "    newList.append('New item')\n",
    "    return newList"
   ]
  },
  {
   "cell_type": "code",
   "execution_count": 26,
   "metadata": {},
   "outputs": [
    {
     "name": "stdout",
     "output_type": "stream",
     "text": [
      "['apple', 'banana', 'cat']\n"
     ]
    }
   ],
   "source": [
    "aList = ['apple', 'banana', 'cat']\n",
    "print(aList)"
   ]
  },
  {
   "cell_type": "code",
   "execution_count": 27,
   "metadata": {},
   "outputs": [
    {
     "name": "stdout",
     "output_type": "stream",
     "text": [
      "['apple', 'banana', 'cat', 'New item']\n"
     ]
    }
   ],
   "source": [
    "bList = append_item(aList)\n",
    "print(bList)"
   ]
  },
  {
   "cell_type": "code",
   "execution_count": 28,
   "metadata": {},
   "outputs": [
    {
     "name": "stdout",
     "output_type": "stream",
     "text": [
      "['apple', 'banana', 'cat', 'New item']\n"
     ]
    }
   ],
   "source": [
    "print(aList)"
   ]
  },
  {
   "cell_type": "markdown",
   "metadata": {},
   "source": [
    "If you run this, then you see that `'New item'` has been added not only to\n",
    "`bList` (a newly made list in the function), but also to `aList` (the original list).\n",
    "To avoid this, you can use the **`copy()`** function under the module **`copy`**."
   ]
  },
  {
   "cell_type": "markdown",
   "metadata": {},
   "source": [
    "`<CopyExample.py>`"
   ]
  },
  {
   "cell_type": "code",
   "execution_count": 30,
   "metadata": {
    "collapsed": true
   },
   "outputs": [],
   "source": [
    "# importing the copy module\n",
    "import copy\n",
    "\n",
    "def append_item(origList):\n",
    "    # make a copy of the original list\n",
    "    newList = copy.copy(origList)\n",
    "    # then append the new item to the newly created list\n",
    "    newList.append('New item')\n",
    "    return newList"
   ]
  },
  {
   "cell_type": "code",
   "execution_count": 31,
   "metadata": {},
   "outputs": [
    {
     "name": "stdout",
     "output_type": "stream",
     "text": [
      "['apple', 'banana', 'cat']\n"
     ]
    }
   ],
   "source": [
    "aList = ['apple', 'banana', 'cat']\n",
    "print(aList)"
   ]
  },
  {
   "cell_type": "code",
   "execution_count": 32,
   "metadata": {},
   "outputs": [
    {
     "name": "stdout",
     "output_type": "stream",
     "text": [
      "['apple', 'banana', 'cat', 'New item']\n"
     ]
    }
   ],
   "source": [
    "bList = append_item(aList)\n",
    "print(bList)"
   ]
  },
  {
   "cell_type": "code",
   "execution_count": 33,
   "metadata": {},
   "outputs": [
    {
     "name": "stdout",
     "output_type": "stream",
     "text": [
      "['apple', 'banana', 'cat']\n"
     ]
    }
   ],
   "source": [
    "print(aList)"
   ]
  },
  {
   "cell_type": "markdown",
   "metadata": {},
   "source": [
    "You will notice that `bList` has a new item, while `aList` remains the same."
   ]
  },
  {
   "cell_type": "markdown",
   "metadata": {},
   "source": [
    "### Exercise\n",
    "1. **Sorting function**. Write a function to sort items on a list and returns the sorted list, while maintaining the original list unchanged.\n",
    "2. **Cat removing function**. You have a list\n",
    "```python\n",
    "mammal = ['cat', 'dog', 'cat', 'cat', 'tiger']\n",
    "```\n",
    "Write a function that removes all `'cat'` from the list, and returns a new list without `'cat'` while preserving the original list."
   ]
  }
 ],
 "metadata": {
  "kernelspec": {
   "display_name": "Python 3",
   "language": "python",
   "name": "python3"
  },
  "language_info": {
   "codemirror_mode": {
    "name": "ipython",
    "version": 3
   },
   "file_extension": ".py",
   "mimetype": "text/x-python",
   "name": "python",
   "nbconvert_exporter": "python",
   "pygments_lexer": "ipython3",
   "version": "3.5.1"
  }
 },
 "nbformat": 4,
 "nbformat_minor": 2
}
