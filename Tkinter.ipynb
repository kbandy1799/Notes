{
 "cells": [
  {
   "cell_type": "markdown",
   "metadata": {},
   "source": [
    "<p style=\"text-align:center\">\n",
    "PSY 394U <b>Python Coding for Psychological Sciences</b>, Fall 2017\n",
    "\n",
    "<img src=\"https://www.python.org/static/community_logos/python-logo-master-v3-TM.png\" alt=\"Python logo\" width=\"200\">\n",
    "</p>\n",
    "\n",
    "<h1 style=\"text-align:center\"> GUIs with Tkinter </h1>\n",
    "\n",
    "<h4 style=\"text-align:center\"> November 28 - 30, 2017 </h4>\n",
    "<hr style=\"height:5px;border:none\" />\n",
    "<p>"
   ]
  },
  {
   "cell_type": "markdown",
   "metadata": {},
   "source": [
    "# 1. What is a GUI? What is Tkinter?\n",
    "<hr style=\"height:1px;border:none\" />"
   ]
  },
  {
   "cell_type": "markdown",
   "metadata": {},
   "source": [
    "A ***GUI***, or graphical user interface, enables users to interact with a program using\n",
    "graphical icons, indicators, buttons, and windows. A GUI appears more user\n",
    "friendly than typing in a command from a keyboard."
   ]
  },
  {
   "cell_type": "markdown",
   "metadata": {},
   "source": [
    "`<SimpleGUIExample.py>`"
   ]
  },
  {
   "cell_type": "code",
   "execution_count": null,
   "metadata": {
    "collapsed": true
   },
   "outputs": [],
   "source": [
    "from tkinter import Tk, simpledialog\n",
    "\n",
    "# first, data entry via keyboard\n",
    "print('What is your name?')\n",
    "userName = input()\n",
    "print('Your name is ' + userName + '.')"
   ]
  },
  {
   "cell_type": "code",
   "execution_count": null,
   "metadata": {
    "collapsed": true
   },
   "outputs": [],
   "source": [
    "# next, with a simple GUI\n",
    "# first, some preparation\n",
    "root = Tk()\n",
    "root.withdraw()\n",
    "root.update()\n",
    "guiInput = simpledialog.askstring('Name entry','What is your name?')\n",
    "print('Your name is ' + guiInput + '.')"
   ]
  },
  {
   "cell_type": "markdown",
   "metadata": {},
   "source": [
    "<p style=\"text-align:left\">\n",
    "<img src=\"https://github.com/sathayas/JupyterPythonFall2017/blob/master/images/tkinter_SimpleGUI.png?raw=true\" alt=\"Simple GUI\" align=\"left\" style=\"width: 250px;\"/>\n",
    "</p>"
   ]
  },
  {
   "cell_type": "markdown",
   "metadata": {},
   "source": [
    "Python comes with a module called **`Tkinter`** that enables users to write their\n",
    "own GUIs. It is relatively simple to program, and `Tkinter` is probably all you need\n",
    "if you are interested in creating simple GUIs. More professionally looking GUIs\n",
    "requires advanced programming and additional package(s).\n",
    "\n",
    "\n",
    "***NB***: *Tkinter is built upon a software took called `Tk`. Different computers may\n",
    "have different versions of `Tk`, so some of the codes we see today may not run on\n",
    "your computer. If some codes do not run on your computer, you likely need to\n",
    "update software called `Tcl/Tk`.*"
   ]
  },
  {
   "cell_type": "markdown",
   "metadata": {},
   "source": [
    "# 2. Pre-built GUIs in Tkinter\n",
    "<hr style=\"height:1px;border:none\" />"
   ]
  },
  {
   "cell_type": "markdown",
   "metadata": {},
   "source": [
    "There are some basic pre-built GUIs in `Tkinter` for various purposes. These\n",
    "GUIs often has only one functionality (e.g., asking a yes/no question), so you\n",
    "may have to use multiple GUIs in your program.\n",
    "\n",
    "The best way to demonstrate these pre-built GUIs is to show example codes and the resulting GUIs. I will not explain the codes in details; you can probably figure out how to modify these GUIs by editing the codes."
   ]
  },
  {
   "cell_type": "markdown",
   "metadata": {},
   "source": [
    "`<BuiltInGUI.py>`"
   ]
  },
  {
   "cell_type": "code",
   "execution_count": 1,
   "metadata": {
    "collapsed": true
   },
   "outputs": [],
   "source": [
    "# %load ../Codes/tkinterExamples/BuiltInGUI.py\n",
    "from tkinter import Tk, messagebox, simpledialog, filedialog\n",
    "\n",
    "# hide main window\n",
    "root = Tk()\n",
    "root.withdraw()\n",
    "root.update()"
   ]
  },
  {
   "cell_type": "markdown",
   "metadata": {},
   "source": [
    "The above is a piece of code you have to run in order to use pre-built GUIs."
   ]
  },
  {
   "cell_type": "markdown",
   "metadata": {},
   "source": [
    "### Printing a message"
   ]
  },
  {
   "cell_type": "code",
   "execution_count": null,
   "metadata": {
    "collapsed": true
   },
   "outputs": [],
   "source": [
    "result = messagebox.showinfo('Info', 'For your information only')\n",
    "print(result)"
   ]
  },
  {
   "cell_type": "markdown",
   "metadata": {},
   "source": [
    "<p style=\"text-align:left\">\n",
    "<img src=\"https://github.com/sathayas/JupyterPythonFall2017/blob/master/images/tkinter_PrintMessage.png?raw=true\" alt=\"Printing a message\" align=\"left\" style=\"width: 250px;\"/>\n",
    "</p>"
   ]
  },
  {
   "cell_type": "markdown",
   "metadata": {},
   "source": [
    "### Yes or no question"
   ]
  },
  {
   "cell_type": "code",
   "execution_count": null,
   "metadata": {
    "collapsed": true
   },
   "outputs": [],
   "source": [
    "result = messagebox.askyesno('Yes or no', 'What is your answer?')\n",
    "print(result)"
   ]
  },
  {
   "cell_type": "markdown",
   "metadata": {},
   "source": [
    "<p style=\"text-align:left\">\n",
    "<img src=\"https://github.com/sathayas/JupyterPythonFall2017/blob/master/images/tkinter_YesNo.png?raw=true\" alt=\"Yes or no question\" align=\"left\" style=\"width: 250px;\"/>\n",
    "</p>"
   ]
  },
  {
   "cell_type": "markdown",
   "metadata": {},
   "source": [
    "### String entry"
   ]
  },
  {
   "cell_type": "code",
   "execution_count": null,
   "metadata": {
    "collapsed": true
   },
   "outputs": [],
   "source": [
    "result = simpledialog.askstring(\"Password\",\"What's the password?\")\n",
    "print(result)"
   ]
  },
  {
   "cell_type": "markdown",
   "metadata": {},
   "source": [
    "<p style=\"text-align:left\">\n",
    "<img src=\"https://github.com/sathayas/JupyterPythonFall2017/blob/master/images/tkinter_String.png?raw=true\" alt=\"String entry\" align=\"left\" style=\"width: 250px;\"/>\n",
    "</p>"
   ]
  },
  {
   "cell_type": "markdown",
   "metadata": {},
   "source": [
    "### Integer entry"
   ]
  },
  {
   "cell_type": "code",
   "execution_count": null,
   "metadata": {
    "collapsed": true
   },
   "outputs": [],
   "source": [
    "result = simpledialog.askinteger('Ask age','How old are you?')\n",
    "print(result)"
   ]
  },
  {
   "cell_type": "markdown",
   "metadata": {},
   "source": [
    "<p style=\"text-align:left\">\n",
    "<img src=\"https://github.com/sathayas/JupyterPythonFall2017/blob/master/images/tkinter_Integer.png?raw=true\" alt=\"Integer entry\" align=\"left\" style=\"width: 250px;\"/>\n",
    "</p>"
   ]
  },
  {
   "cell_type": "markdown",
   "metadata": {},
   "source": [
    "### Float entry"
   ]
  },
  {
   "cell_type": "code",
   "execution_count": null,
   "metadata": {
    "collapsed": true
   },
   "outputs": [],
   "source": [
    "result = simpledialog.askfloat('GPA','What is your GPA?')\n",
    "print(result)"
   ]
  },
  {
   "cell_type": "markdown",
   "metadata": {},
   "source": [
    "<p style=\"text-align:left\">\n",
    "<img src=\"https://github.com/sathayas/JupyterPythonFall2017/blob/master/images/tkinter_Float.png?raw=true\" alt=\"Float entry\" align=\"left\" style=\"width: 250px;\"/>\n",
    "</p>"
   ]
  },
  {
   "cell_type": "markdown",
   "metadata": {},
   "source": [
    "### Selecting a file to be opened"
   ]
  },
  {
   "cell_type": "code",
   "execution_count": null,
   "metadata": {
    "collapsed": true
   },
   "outputs": [],
   "source": [
    "result = filedialog.askopenfilename()\n",
    "print(result)"
   ]
  },
  {
   "cell_type": "markdown",
   "metadata": {},
   "source": [
    "<p style=\"text-align:left\">\n",
    "<img src=\"https://github.com/sathayas/JupyterPythonFall2017/blob/master/images/tkinter_FileOpen.png?raw=true\" alt=\"Selecting a file to open\" align=\"left\" style=\"width: 500px;\"/>\n",
    "</p>"
   ]
  },
  {
   "cell_type": "markdown",
   "metadata": {},
   "source": [
    "### Selecting a file to be saved"
   ]
  },
  {
   "cell_type": "code",
   "execution_count": null,
   "metadata": {
    "collapsed": true
   },
   "outputs": [],
   "source": [
    "result = filedialog.asksaveasfilename()\n",
    "print(result)"
   ]
  },
  {
   "cell_type": "markdown",
   "metadata": {},
   "source": [
    "<p style=\"text-align:left\">\n",
    "<img src=\"https://github.com/sathayas/JupyterPythonFall2017/blob/master/images/tkinter_FileSave.png?raw=true\" alt=\"Selecting a file to save\" align=\"left\" style=\"width: 500px;\"/>\n",
    "</p>"
   ]
  },
  {
   "cell_type": "markdown",
   "metadata": {},
   "source": [
    "<p style=\"text-align:left\">\n",
    "<img src=\"https://github.com/sathayas/JupyterPythonFall2017/blob/master/images/tkinter_FileSaveWarning.png?raw=true\" alt=\"Warning to overwrite a file\" align=\"left\" style=\"width: 350px;\"/>\n",
    "</p>"
   ]
  },
  {
   "cell_type": "markdown",
   "metadata": {},
   "source": [
    "# 3. Simple widgets\n",
    "<hr style=\"height:1px;border:none\" />"
   ]
  },
  {
   "cell_type": "markdown",
   "metadata": {},
   "source": [
    "**Widgets** are components of GUIs, such as buttons, text entry boxes, check\n",
    "boxes, and pull-down menus. Rather than using the built-in GUIs as described\n",
    "above, you can build your own custom GUIs by putting together various widgets.\n",
    "Here, I will show some examples of simple widgets."
   ]
  },
  {
   "cell_type": "markdown",
   "metadata": {},
   "source": [
    "### Labels\n",
    "\n",
    "`<Label.py>`"
   ]
  },
  {
   "cell_type": "code",
   "execution_count": 1,
   "metadata": {
    "collapsed": true
   },
   "outputs": [],
   "source": [
    "from tkinter import Tk,Label\n",
    "\n",
    "# initializing the root window\n",
    "root = Tk()\n",
    "\n",
    "# displaying the label widget\n",
    "x = Label(root,text=\"Hello World\")\n",
    "x.pack()\n",
    "\n",
    "# keep the window displayed\n",
    "root.mainloop()"
   ]
  },
  {
   "cell_type": "markdown",
   "metadata": {},
   "source": [
    "<p style=\"text-align:left\">\n",
    "<img src=\"https://github.com/sathayas/JupyterPythonFall2017/blob/master/images/tkinter_Label.png?raw=true\" alt=\"Label widget\" align=\"left\" style=\"width: 80px;\"/>\n",
    "</p>"
   ]
  },
  {
   "cell_type": "markdown",
   "metadata": {},
   "source": [
    "### Buttons\n",
    "\n",
    "`<Button.py>`"
   ]
  },
  {
   "cell_type": "code",
   "execution_count": 3,
   "metadata": {
    "collapsed": true
   },
   "outputs": [],
   "source": [
    "from tkinter import Tk,Button,Label\n",
    "\n",
    "def response():\n",
    "    y = Label(root, text='You did it!')\n",
    "    y.pack()\n",
    "\n",
    "root = Tk()\n",
    "x = Button(root, text='Click here!', command=response)\n",
    "x.pack()\n",
    "root.mainloop()"
   ]
  },
  {
   "cell_type": "markdown",
   "metadata": {},
   "source": [
    "<p style=\"text-align:left\">\n",
    "<img src=\"https://github.com/sathayas/JupyterPythonFall2017/blob/master/images/tkinter_Button.png?raw=true\" alt=\"Button widget\" align=\"left\" style=\"width: 100px;\"/>\n",
    "</p>"
   ]
  },
  {
   "cell_type": "markdown",
   "metadata": {},
   "source": [
    "`<Buttons.py>`"
   ]
  },
  {
   "cell_type": "code",
   "execution_count": 5,
   "metadata": {
    "collapsed": true
   },
   "outputs": [],
   "source": [
    "from tkinter import Tk,Button,Label\n",
    "\n",
    "# Response function when the button A is pressed\n",
    "def responseA():\n",
    "    y = Label(root, text='You chose A')\n",
    "    y.pack()\n",
    "\n",
    "# Response function when the button B is pressed\n",
    "def responseB():\n",
    "    y = Label(root, text='You chose B')\n",
    "    y.pack()\n",
    "\n",
    "\n",
    "root = Tk()\n",
    "# Displaying the instruction via a Label widget\n",
    "t = Label(root, text='Pick your opitions:')\n",
    "t.pack()\n",
    "\n",
    "# Button A widget\n",
    "x1 = Button(root, text='Option A', command=responseA)\n",
    "x1.pack()\n",
    "\n",
    "# Button B widget\n",
    "x2 = Button(root, text='Option B', command=responseB)\n",
    "x2.pack()\n",
    "\n",
    "root.mainloop()"
   ]
  },
  {
   "cell_type": "markdown",
   "metadata": {},
   "source": [
    "<p style=\"text-align:left\">\n",
    "<img src=\"https://github.com/sathayas/JupyterPythonFall2017/blob/master/images/tkinter_Buttons.png?raw=true\" alt=\"Button widget (multiple)\" align=\"left\" style=\"width: 120px;\"/>\n",
    "</p>"
   ]
  },
  {
   "cell_type": "markdown",
   "metadata": {},
   "source": [
    "### Check box\n",
    "\n",
    "`<CheckBox.py>`"
   ]
  },
  {
   "cell_type": "code",
   "execution_count": null,
   "metadata": {
    "collapsed": true
   },
   "outputs": [],
   "source": [
    "from tkinter import Tk, Checkbutton\n",
    "\n",
    "def CheckUncheck():\n",
    "    print('You checked or unchecked the box.')\n",
    "    \n",
    "root = Tk()\n",
    "x = Checkbutton(root, text='Check this box', command=CheckUncheck)\n",
    "x.pack()\n",
    "root.mainloop()"
   ]
  },
  {
   "cell_type": "markdown",
   "metadata": {},
   "source": [
    "<p style=\"text-align:left\">\n",
    "<img src=\"https://github.com/sathayas/JupyterPythonFall2017/blob/master/images/tkinter_CheckBox.png?raw=true\" alt=\"Check box widget\" align=\"left\" style=\"width: 120px;\"/>\n",
    "</p>"
   ]
  },
  {
   "cell_type": "markdown",
   "metadata": {},
   "source": [
    "`<CheckBoxContVar.py>`"
   ]
  },
  {
   "cell_type": "code",
   "execution_count": 9,
   "metadata": {
    "collapsed": true
   },
   "outputs": [],
   "source": [
    "from tkinter import Tk, Checkbutton, IntVar, messagebox\n",
    "\n",
    "root = Tk()\n",
    "\n",
    "# defining the control variable\n",
    "checked = IntVar(value=1)\n",
    "\n",
    "# check box\n",
    "x = Checkbutton(root, text='Check this box', variable=checked)\n",
    "x.pack()\n",
    "root.mainloop()\n",
    "\n",
    "# preparing another GUI\n",
    "root = Tk()\n",
    "root.withdraw()\n",
    "root.update()\n",
    "\n",
    "# depending on the value of the check box ...\n",
    "if checked.get():\n",
    "    messagebox.showinfo('Message','The box was checked')\n",
    "else:\n",
    "    messagebox.showinfo('Message','The box was unchecked')"
   ]
  },
  {
   "cell_type": "markdown",
   "metadata": {},
   "source": [
    "<p style=\"text-align:left\">\n",
    "<img src=\"https://github.com/sathayas/JupyterPythonFall2017/blob/master/images/tkinter_CheckBoxMessage.png?raw=true\" alt=\"Check box input\" align=\"left\" style=\"width: 250px;\"/>\n",
    "</p>"
   ]
  },
  {
   "cell_type": "markdown",
   "metadata": {},
   "source": [
    "### Radio buttons\n",
    "\n",
    "`<RadioButton.py>`"
   ]
  },
  {
   "cell_type": "code",
   "execution_count": null,
   "metadata": {
    "collapsed": true
   },
   "outputs": [],
   "source": [
    "from tkinter import Tk, Label, Radiobutton, StringVar\n",
    "\n",
    "# crating the root object\n",
    "root = Tk()\n",
    "\n",
    "# creagint the srting control variable and set its\n",
    "speed = StringVar(value='Fast')\n",
    "\n",
    "# creating a label for the instruction\n",
    "t1 = Label(root, text='Please select the speed \\n for your spaceship:')\n",
    "t1.pack()\n",
    "\n",
    "# creagint the radio buttons\n",
    "r1 = Radiobutton(root, text=\"Normal\" ,variable=speed, value=\"Normal\")\n",
    "r2 = Radiobutton(root, text=\"Fast\" ,variable=speed, value=\"Fast\")\n",
    "r3 = Radiobutton(root, text=\"Super fast\" ,variable=speed, value=\"Super fast\")\n",
    "r1.pack()\n",
    "r2.pack()\n",
    "r3.pack()\n",
    "\n",
    "# keep the GUI window open\n",
    "root.mainloop()\n",
    "\n",
    "print(speed.get())"
   ]
  },
  {
   "cell_type": "markdown",
   "metadata": {},
   "source": [
    "<p style=\"text-align:left\">\n",
    "<img src=\"https://github.com/sathayas/JupyterPythonFall2017/blob/master/images/tkinter_RadioButton.png?raw=true\" alt=\"Radio button widget\" align=\"left\" style=\"width: 160px;\"/>\n",
    "</p>"
   ]
  },
  {
   "cell_type": "markdown",
   "metadata": {},
   "source": [
    "### Pull-down menu\n",
    "\n",
    "`<PullDownMenu.py>`"
   ]
  },
  {
   "cell_type": "code",
   "execution_count": null,
   "metadata": {},
   "outputs": [],
   "source": [
    "from tkinter import Tk, Label, OptionMenu, StringVar\n",
    "\n",
    "# crating the root object\n",
    "root = Tk()\n",
    "\n",
    "# creagint the srting control variable and set its\n",
    "speed = StringVar(value='Super fast')\n",
    "\n",
    "# creating a label for the instruction\n",
    "t1 = Label(root, text='Please select the speed \\n for your spaceship:')\n",
    "t1.pack()\n",
    "\n",
    "# creagint the radio buttons\n",
    "r1 = OptionMenu(root, speed, 'Normal', 'Fast', 'Super fast')\n",
    "r1.pack()\n",
    "\n",
    "# keep the GUI window open\n",
    "root.mainloop()\n",
    "\n",
    "print(speed.get())"
   ]
  },
  {
   "cell_type": "markdown",
   "metadata": {},
   "source": [
    "<p style=\"text-align:left\">\n",
    "<img src=\"https://github.com/sathayas/JupyterPythonFall2017/blob/master/images/tkinter_PullDownMenu.png?raw=true\" alt=\"Pull-down menu widget\" align=\"left\" style=\"width: 160px;\"/>\n",
    "</p>"
   ]
  },
  {
   "cell_type": "markdown",
   "metadata": {},
   "source": [
    "### Text entry box\n",
    "\n",
    "`<TextBox.py>`"
   ]
  },
  {
   "cell_type": "code",
   "execution_count": null,
   "metadata": {},
   "outputs": [],
   "source": [
    "from tkinter import Tk,Entry, StringVar, Label\n",
    "\n",
    "root = Tk()\n",
    "\n",
    "# text control variable\n",
    "sValue = StringVar()\n",
    "\n",
    "t1 = Label(root, text='Type in some text here!')\n",
    "t1.pack()\n",
    "\n",
    "x = Entry(root, textvariable=sValue)\n",
    "x.pack()\n",
    "\n",
    "root.mainloop()\n",
    "print(sValue.get())"
   ]
  },
  {
   "cell_type": "markdown",
   "metadata": {},
   "source": [
    "<p style=\"text-align:left\">\n",
    "<img src=\"https://github.com/sathayas/JupyterPythonFall2017/blob/master/images/tkinter_TextBox.png?raw=true\" alt=\"Text entry widget\" align=\"left\" style=\"width: 180px;\"/>\n",
    "</p>"
   ]
  },
  {
   "cell_type": "markdown",
   "metadata": {},
   "source": [
    "# 4. Multiple widgets in a single GUI\n",
    "<hr style=\"height:1px;border:none\" />"
   ]
  },
  {
   "cell_type": "markdown",
   "metadata": {},
   "source": [
    "It is possible to include multiple widgets in your GUI. You have some control over\n",
    "where each widget is displayed on a GUI, using the **`grid`** method. In the `grid`\n",
    "method, you can divide up the GUI\n",
    "window into multiple rows and columns,\n",
    "and specify the location where a widget\n",
    "is displayed. This is analogous to the\n",
    "**`plt.subplot`** function we saw when\n",
    "we learned `matplotlib`. Here is a\n",
    "simple example, where `Label` widgets\n",
    "are displayed at various row / column\n",
    "locations. One of the widgets spans\n",
    "across 3 columns."
   ]
  },
  {
   "cell_type": "markdown",
   "metadata": {},
   "source": [
    "`<GridExample.py>`"
   ]
  },
  {
   "cell_type": "code",
   "execution_count": 6,
   "metadata": {
    "collapsed": true
   },
   "outputs": [],
   "source": [
    "from tkinter import Tk, Label\n",
    "\n",
    "root = Tk()\n",
    "\n",
    "t_first0 = Label(root, text='Row=0, Col=0')\n",
    "t_first0.grid(row=0, column=0)\n",
    "\n",
    "t_first1 = Label(root, text='Row=0, Col=1')\n",
    "t_first1.grid(row=0, column=1)\n",
    "\n",
    "t_second = Label(root, text='Row=1, label spanning across 3 columns')\n",
    "t_second.grid(row=1, column=0, columnspan=3)\n",
    "\n",
    "t_third = Label(root, text='Row=2, Col=1')\n",
    "t_third.grid(row=2, column=1)\n",
    "\n",
    "t_fourth = Label(root, text='Row=3, Col=0')\n",
    "t_fourth.grid(row=3, column=0)\n",
    "\n",
    "t_fifth = Label(root, text='Row=4, Col=2')\n",
    "t_fifth.grid(row=4, column=2)\n",
    "\n",
    "root.mainloop()"
   ]
  },
  {
   "cell_type": "markdown",
   "metadata": {},
   "source": [
    "<p style=\"text-align:left\">\n",
    "<img src=\"https://github.com/sathayas/JupyterPythonFall2017/blob/master/images/tkinter_GridExample.png?raw=true\" alt=\"Grid example\" align=\"left\" style=\"width: 300px;\"/>\n",
    "</p>"
   ]
  },
  {
   "cell_type": "markdown",
   "metadata": {},
   "source": [
    "Finally, here is a simple example of a GUI with multiple widgets. It is a Pig Latin\n",
    "translator, using the function **`PigLatin`** included in **`PigLatin.py`** (available on\n",
    "**GitHub**). In a nutshell, the input string\n",
    "is translated into Pig Latin, and returned as the value of a string control variable. The translation\n",
    "function is called indirectly from the wrapper function (a function designed to call another function)\n",
    "**`PigLatinWrapper`** with the\n",
    "appropriate input parameter, and the returned value is set in the control\n",
    "variable **`OutWord`**."
   ]
  },
  {
   "cell_type": "markdown",
   "metadata": {},
   "source": [
    "`<MultiWidgetGUI.py>`"
   ]
  },
  {
   "cell_type": "code",
   "execution_count": 9,
   "metadata": {},
   "outputs": [],
   "source": [
    "from tkinter import Tk, Entry, Label, Button, StringVar\n",
    "from PigLatin import PigLatin\n",
    "\n",
    "# pig latin translation wrapper\n",
    "def PigLatinWrapper():\n",
    "    inString = EngWord.get()\n",
    "    PLWord = PigLatin(inString)\n",
    "    OutWord.set(PLWord)\n",
    "\n",
    "\n",
    "root = Tk()\n",
    "\n",
    "EngWord = StringVar()\n",
    "OutWord = StringVar()\n",
    "\n",
    "t1 = Label(root, text=\"English to Pig Latin translator\")\n",
    "t1.grid(row=0, column=0, columnspan=2)\n",
    "\n",
    "t2 = Label(root, text=\"English:\")\n",
    "t2.grid(row=1, column=0)\n",
    "\n",
    "e1 = Entry(root, textvariable=EngWord)\n",
    "e1.grid(row=1, column=1)\n",
    "\n",
    "t3 = Label(root, text='Pig Latin:')\n",
    "t3.grid(row=2, column=0)\n",
    "\n",
    "t4 = Label(root, textvariable=OutWord)\n",
    "t4.grid(row=2, column=1)\n",
    "\n",
    "b1 = Button(root, text='Translate', command=PigLatinWrapper)\n",
    "b1.grid(row=3, column=1)\n",
    "\n",
    "root.mainloop()"
   ]
  },
  {
   "cell_type": "markdown",
   "metadata": {},
   "source": [
    "<p style=\"text-align:left\">\n",
    "<img src=\"https://github.com/sathayas/JupyterPythonFall2017/blob/master/images/tkinter_MultiWidget.png?raw=true\" alt=\"GUI with multiple widgets\" align=\"left\" style=\"width: 240px;\"/>\n",
    "</p>"
   ]
  }
 ],
 "metadata": {
  "kernelspec": {
   "display_name": "Python 3",
   "language": "python",
   "name": "python3"
  },
  "language_info": {
   "codemirror_mode": {
    "name": "ipython",
    "version": 3
   },
   "file_extension": ".py",
   "mimetype": "text/x-python",
   "name": "python",
   "nbconvert_exporter": "python",
   "pygments_lexer": "ipython3",
   "version": "3.4.5"
  }
 },
 "nbformat": 4,
 "nbformat_minor": 2
}
