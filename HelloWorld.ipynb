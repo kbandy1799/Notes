{
 "cells": [
  {
   "cell_type": "markdown",
   "metadata": {},
   "source": [
    "<p style=\"text-align:center\">\n",
    "PSY 341K <b>Python Coding for Psychological Sciences</b>, Fall 2018\n",
    "\n",
    "<img src=\"https://www.python.org/static/community_logos/python-logo-master-v3-TM.png\" alt=\"Python logo\" width=\"200\">\n",
    "</p>\n",
    "\n",
    "<h1 style=\"text-align:center\"> Introduction & Hello World </h1>\n",
    "\n",
    "<h4 style=\"text-align:center\"> August 30, 2018 </h4>\n",
    "<hr style=\"height:5px;border:none\" />\n",
    "<p>"
   ]
  },
  {
   "cell_type": "markdown",
   "metadata": {},
   "source": [
    "# 0. Disclaimer\n",
    "<hr style=\"height:1px;border:none\" />"
   ]
  },
  {
   "cell_type": "markdown",
   "metadata": {},
   "source": [
    "This course is designed for students without much prior programming experience. So I plan to cover very basic materials on simple programming, and possibly some topics pertinent to psychology studies (an emphasis on numerical data). Thus, if you have extensive prior programming experience or if you are looking for advanced materials on particular aspects of Python, this class may be too rudimentary for you. I have noticed that students with some prior programming experience tend to be bored and unhappy with this course because it is too easy and slow for them. I have also noticed that students familiar with another programming language can learn Python syntax on their own much quicker than attending a semester-long course. \n",
    "\n",
    "Please make sure this is the right course for you!"
   ]
  },
  {
   "cell_type": "markdown",
   "metadata": {},
   "source": [
    "# 1. Syllabus (executive summary)\n",
    "<hr style=\"height:1px;border:none\" />"
   ]
  },
  {
   "cell_type": "markdown",
   "metadata": {},
   "source": [
    "## Instructor\n",
    "\n",
    "### Satoru Hayasaka, Ph.D.\n",
    "\n",
    "  * Office: SEA 2.214\n",
    "  * Email: hayasaka@utexas.edu\n",
    "  * Office hours: 10:00-11:30am, Tue & Thu - Or by appointment\n"
   ]
  },
  {
   "cell_type": "markdown",
   "metadata": {},
   "source": [
    "## What will I learn?\n",
    "\n",
    "Learning Outcomes:\n",
    "1. Vocabulary and understanding of fundamental programming concepts\n",
    "2. Python coding skills for simple data handling, manipulation, and visualization\n",
    "3. Problem solving skills necessary to address a problem through Python coding\n",
    "\n",
    "<p style=\"text-align:center\">\n",
    "<img src=\"https://github.com/sathayas/JupyterPythonFall2018/blob/master/images/Intro_HarryPotter.jpg?raw=true\" alt=\"Harry Potter speaks Python\" style=\"width: 500px;\"/>\n",
    "</p>\n"
   ]
  },
  {
   "cell_type": "markdown",
   "metadata": {},
   "source": [
    "## Required resources\n",
    "\n",
    "### Computer\n",
    "A computer with Python (version 3.5 or later) is required to complete in-class exercises, homework assignments, and mini-hackathons.\n",
    "  * Bring your laptop with Python installed (*highly encouraged*)\n",
    "  * Install Python on your home / office computer\n",
    "  * Anaconda Python is available on computers in the classroom\n",
    "  \n",
    "     ***Please note that***\n",
    "       * Computers in the classroom are not always available\n",
    "       * Your work will stay on the computer\\\n",
    "\n",
    "### Python\n",
    "Python 3.5 or later is required. See the **Installation Instructions** document for how to get Python.\n",
    "\n",
    "### Python libraries\n",
    "Make sure these libraries are installed on your computer:\n",
    "  * `NumPy`\n",
    "  * `Matplotlib`\n",
    "  * `Pandas`\n",
    "  \n",
    "### Git\n",
    "**Git** enables you clone (or copy) codes, notes, and data associated with this class from **GitHub**. Git is already pre-installed on Mac. For Windows users, you can download Git for free from its website\n",
    "(https://git-scm.com/downloads )."
   ]
  },
  {
   "cell_type": "markdown",
   "metadata": {},
   "source": [
    "## Optional Resources\n",
    "\n",
    "### Textbook\n",
    "The first half of this class is loosely based on \n",
    "```\n",
    "   Al Sweigart,\n",
    "   Automate the Boring Stuff with Python:\n",
    "   Practical Programming for Total Beginners\n",
    "   No Starch Press (2015)\n",
    "```\n",
    "\n",
    "### Jupyter notebook\n",
    "Jupyter Notebook enables you to read course notes and run Python codes on your web browser."
   ]
  },
  {
   "cell_type": "markdown",
   "metadata": {},
   "source": [
    "## Course materials\n",
    "\n",
    "Course materials are available on the Instructor's GitHub repositories on the web. Links to notes and codes for particular modules are provided on Canvas.\n",
    "  * Notes: https://github.com/sathayas/JupyterPythonFall2018\n",
    "  * Codes: https://github.com/sathayas/PythonClassFall2018"
   ]
  },
  {
   "cell_type": "markdown",
   "metadata": {},
   "source": [
    "## Grading\n",
    "\n",
    "### Homework assignments (60%)\n",
    "  * Five homework assignments\n",
    "  * Highest four scores (up to 15% each) will be used to calculate the score for Homework\n",
    "\n",
    "### Mini-Hackathons (30%)\n",
    "  * Group programming projects\n",
    "  * 2-3 students per group\n",
    "  * Work on a problem of your choice\n",
    "  * Code together, and present the results to the class\n",
    "  * Mid-term and final mini-hackathons\n",
    "  \n",
    "### Code presentations (10+%)\n",
    "  * Post a solution code to an in-class exercise on Canvas\n",
    "  * One students will be selected to explain the code\n",
    "  * Students can earn points\n",
    "     * 7% - first presentation\n",
    "     * 3% - second presentation\n",
    "     * 1% - third and subsequent presentations\n",
    "\n",
    "    Students may earn extra points, and will be used to determine the final grade."
   ]
  },
  {
   "cell_type": "markdown",
   "metadata": {},
   "source": [
    "## Policies\n",
    "\n",
    "### Attendance\n",
    "  * Mandatory for mini-hackathons\n",
    "     * Talk to me if you have a legitimate reason and unable to attend\n",
    "  * The instructor will not track attendance\n",
    "     * If you are not in the class, you cannot earn points for in-class code presentation\n",
    "     \n",
    "### Late assignments\n",
    "   * Points will be taken off for late submissions\n",
    "   * If unable to submit before the deadline for an extenuating circumstance (e.g., sickness, family emergency), please contact me BEFORE the deadline.\n",
    "   \n",
    "### Group submissions\n",
    "   * Students may work on homework assignments together, and submit identical codes.\n",
    "   * Each student is still responsible for submitting his/her codes on Canvas\n",
    "   * Please indicate whom you worked with.\n",
    "   * Group size may not exceed 4\n",
    "   \n",
    "### Academic integrity\n",
    "   * Do not cheat!\n",
    "   * The instructor will report any incident of academic misconduct!"
   ]
  },
  {
   "cell_type": "markdown",
   "metadata": {},
   "source": [
    "# 2. Python shell and editor \n",
    "<hr style=\"height:1px;border:none\" />"
   ]
  },
  {
   "cell_type": "markdown",
   "metadata": {},
   "source": [
    "Tools for writing and running Python programs:\n",
    "* **Python shell**\n",
    "    * Also known as a Python interpreter. Often a text-based window where you type Python commands. This is where Python commands and programs are **executed** or **run**.\n",
    "* **Editor**\n",
    "    * A word processor specialized in writing Python programs\n",
    "\n",
    "They may be in the same window (as in Spyder in Anaconda Python) or in separate windows (as in IDLE editor and shell).\n",
    "\n",
    "\n",
    "## Anaconda\n",
    "You first have to start the **Anaconda Navigator** on your computer. Then you can launch **Spyder**. Within Spyder, there are boxes for the editor and the shell.\n",
    "\n",
    "<p style=\"text-align:center\">\n",
    "<img src=\"https://github.com/sathayas/JupyterPythonFall2018/blob/master/images/Intro_AnacondaNav.png?raw=true\" alt=\"Anaconda Navigator\" style=\"width: 600px;\"/>\n",
    "<b>Anaconda Navigator</b>\n",
    "</p>\n",
    "<p>\n",
    "\n",
    "<p style=\"text-align:center\">\n",
    "<img src=\"https://github.com/sathayas/JupyterPythonFall2018/blob/master/images/Intro_Spyder.png?raw=true\" alt=\"Spyder\" style=\"width: 600px;\"/>\n",
    "<b>Spyder</b>\n",
    "</p>\n",
    "<p>"
   ]
  },
  {
   "cell_type": "markdown",
   "metadata": {},
   "source": [
    "## IDLE\n",
    "If you choose to use IDLE, then you see two windows.\n",
    "\n",
    "<p style=\"text-align:center\">\n",
    "<img src=\"https://github.com/sathayas/JupyterPythonFall2017/blob/master/images/IDLE_Shell.png?raw=true\" alt=\"Python shell\" style=\"width: 400px;\"/>\n",
    "<b>Python shell</b>\n",
    "</p>\n",
    "<p>\n",
    "\n",
    "<p style=\"text-align:center\">\n",
    "<img src=\"https://github.com/sathayas/JupyterPythonFall2017/blob/master/images/IDLE_Editor.png?raw=true\" alt=\"Python shell\" style=\"width: 400px;\"/>\n",
    "<b>Editor</b>\n",
    "</p>"
   ]
  },
  {
   "cell_type": "markdown",
   "metadata": {},
   "source": [
    "# 3. Hello World\n",
    "<hr style=\"height:1px;border:none\" />"
   ]
  },
  {
   "cell_type": "markdown",
   "metadata": {},
   "source": [
    "## Typing a command\n",
    "\n",
    "Now let’s play with Python a little bit. Start the Python IDLE. In the Python shell\n",
    "window, you should see a prompt ``>>>``. You can type in a command (or one line\n",
    "of program) at the prompt. Try this:"
   ]
  },
  {
   "cell_type": "code",
   "execution_count": null,
   "metadata": {
    "collapsed": true
   },
   "outputs": [],
   "source": [
    "print('Hello World')"
   ]
  },
  {
   "cell_type": "markdown",
   "metadata": {},
   "source": [
    "And hit the enter key. What happens next? The **`print`** command prints out\n",
    "inside the brackets **`()`**."
   ]
  },
  {
   "cell_type": "markdown",
   "metadata": {},
   "source": [
    "### Exercise\n",
    "1. Change the word **`World`** to your name in the print command above, and run it. What happens next?\n",
    "2. Change the single quotation marks (**`'`**) to double quotation marks (**`\"`**). Does the command still run?\n",
    "3. Drop the quotation marks from the command. Does it still run?"
   ]
  },
  {
   "cell_type": "markdown",
   "metadata": {},
   "source": [
    "You may have seen your first error message:\n",
    "\n",
    "**`SyntaxError: invalid syntax`**\n",
    "\n",
    "This means the command you typed in does not conform to the standard syntax\n",
    "of Python. In other words, your command was grammatically incorrect\n",
    "(figuratively speaking). When we encounter an error (a.k.a., bug), we debug the\n",
    "problem.\n",
    "\n",
    "In this case, dropping quotation marks was causing the problem. You type the\n",
    "command with quotations marks and it should run again.\n",
    "Now, this time, let’s try these two commands."
   ]
  },
  {
   "cell_type": "code",
   "execution_count": null,
   "metadata": {
    "collapsed": true
   },
   "outputs": [],
   "source": [
    "yourname = 'Satoru'\n",
    "print('Hello ' + yourname)"
   ]
  },
  {
   "cell_type": "markdown",
   "metadata": {},
   "source": [
    "In this case, your name is stored in a variable called **`yourname`**, and it was\n",
    "concatenated after **`'Hello '`** in the print command. You can also\n",
    "concatenate exclamation marks by\n"
   ]
  },
  {
   "cell_type": "code",
   "execution_count": null,
   "metadata": {
    "collapsed": true
   },
   "outputs": [],
   "source": [
    "print('Hello ' + yourname + '!!!')"
   ]
  },
  {
   "cell_type": "markdown",
   "metadata": {},
   "source": [
    "We will talk more about variables in the next class."
   ]
  },
  {
   "cell_type": "markdown",
   "metadata": {},
   "source": [
    "### Exercise\n",
    "1. Change the variable yourname to include your full name. Then run the **`print`** command. What happens?"
   ]
  },
  {
   "cell_type": "markdown",
   "metadata": {},
   "source": [
    "## Writing a program\n",
    "\n",
    "So far, we’ve run a few commands. But let’s say you want to do something\n",
    "slightly more complicated. Open the program editor by selecting **File**$\\rightarrow$**New\n",
    "File**. In the editor, type this simple program:"
   ]
  },
  {
   "cell_type": "markdown",
   "metadata": {},
   "source": [
    "`<HelloWorld.py>`"
   ]
  },
  {
   "cell_type": "code",
   "execution_count": null,
   "metadata": {
    "collapsed": true
   },
   "outputs": [],
   "source": [
    "print(\"Hello World!\")\n",
    "yourname = 'Hayasaka'\n",
    "print(\"Hello, \" + yourname + \"!!\")"
   ]
  },
  {
   "cell_type": "markdown",
   "metadata": {},
   "source": [
    "After you are done, from the menu, select **Run**$\\rightarrow$**Run Module**. This probably\n",
    "asks you to save the program. Let’s save this program as **`HelloWorld.py`**.\n",
    "Then the program should run. In other words, all the commands in this program\n",
    "run at once. What output do you see?\n",
    "\n",
    "One benefit of writing a program is that you don’t have to re-type everything. All\n",
    "you need to do is to change the part you want to modify."
   ]
  },
  {
   "cell_type": "markdown",
   "metadata": {},
   "source": [
    "### Exercise\n",
    "1. Change the variable **`yourname`** to your last name. Then run the program again.\n",
    "2. Change the variable **`yourname`** to your full name. Then run the program again."
   ]
  },
  {
   "cell_type": "markdown",
   "metadata": {},
   "source": [
    "## One last edit\n",
    "Now, in the **`HelloWorld.py`** program, make the following change to the\n",
    "statement for the variable yourname.\n",
    "\n",
    "```python\n",
    "yourname = input('What is your name? ')\n",
    "```\n",
    "\n",
    "This time, we are using the **`input`** function. That means you can enter your\n",
    "name from the keyboard. The program waits for the user to input a name. Once\n",
    "something is entered, then the program continues."
   ]
  },
  {
   "cell_type": "markdown",
   "metadata": {},
   "source": [
    "### Exercise\n",
    "1. Create another program in the editor by selecting **File**$\\rightarrow$**New File** from the menu. Then write the following program and run. What is the output?\n",
    "<br>`<HelloName.py>`\n",
    "```python\n",
    "firstname = input('What is your first name? ')\n",
    "lastname = input('What is your last name? ')\n",
    "print('You are ' + firstname + lastname)\n",
    "```\n",
    "2. There is no space between your first name and last name. How can you put a space between them?\n"
   ]
  },
  {
   "cell_type": "markdown",
   "metadata": {},
   "source": [
    "# 4. Jupyter notebook\n",
    "<hr style=\"height:1px;border:none\" />"
   ]
  },
  {
   "cell_type": "markdown",
   "metadata": {},
   "source": [
    "## What is Jupyter notebook?\n",
    "\n",
    "A Jupyter notebook is an interactive document that lets you run Python right there in your document. It is an ideal setting for teaching and learning how to code. You may have noticed that I posted two versions of notes on Canvas: one in HTML and the other one in Jupyter notebook (**`.ipynb`**). While the HTML version contains all the materials covered in the class, the Jupyter notebook allows you to run some codes within the notebook.\n",
    "\n",
    "To use Jupyter notebook, you need to install Jupyter notebook on your computer, in addtion to Python. The installation instructions can be found the in the installation documentation available on Canvas."
   ]
  },
  {
   "cell_type": "markdown",
   "metadata": {},
   "source": [
    "## How to work with a Jupyter notebook\n",
    "\n",
    "### Starting up\n",
    "To start out a Jupyter notebook, you open a Terminal (Mac) or Command Prompt (Windows) app. Then type in the command:\n",
    "\n",
    "```\n",
    "jupyter notebook\n",
    "```\n",
    "\n",
    "This should open up a web browser, and it should look like this:\n",
    "\n",
    "<img src=\"https://github.com/sathayas/JupyterPythonFall2017/blob/master/images/Jupyter_StartUp.png?raw=true\" alt=\"Starting up Jupyter notebook\" style=\"width: 500px;\"/>\n",
    "\n",
    "Using the file browser within your web browser, find a Jupyter notebook document. It should look something like this:\n",
    "\n",
    "<img src=\"https://github.com/sathayas/JupyterPythonFall2017/blob/master/images/Jupyter_Notebook.png?raw=true\" alt=\"An example of Jupyter notebook\" style=\"width: 500px;\"/>\n",
    "\n",
    "### Code cells\n",
    "Within a notebook document, there are some codes that can be executed on the spot. You simply find the code snippet, a box with **`In [ ]:`** on the left margin.\n",
    "\n",
    "<img src=\"https://github.com/sathayas/JupyterPythonFall2017/blob/master/images/Jupyter_CodeCell.png?raw=true\" alt=\"Code cell\" style=\"width: 800px;\"/>\n",
    "\n",
    "You can click on this **cell** to select. If you happen to click on the text area, then you will see the cell selected with a *green* border.\n",
    "\n",
    "<img src=\"https://github.com/sathayas/JupyterPythonFall2017/blob/master/images/Jupyter_CodeCellGreen.png?raw=true\" alt=\"Selected code cell (green)\" width=\"800\">\n",
    "\n",
    "Or if you happen to click anywhere else on the cell, the you will see the cell with a *blue* border.\n",
    "\n",
    "<img src=\"https://github.com/sathayas/JupyterPythonFall2017/blob/master/images/Jupyter_CodeCellBlue.png?raw=true\" alt=\"Selected code cell (blue)\" width=\"800\">\n",
    "\n",
    "### Running a code cell\n",
    "Once the cell is selected (blue or green), you can run that code by pressing the run button \n",
    "\n",
    "<img src=\"https://github.com/sathayas/JupyterPythonFall2017/blob/master/images/Jupyter_PlayButton.png?raw=true\" alt=\"Run button\" width=\"30\">\n",
    "\n",
    "within the browser window on the top. Then the code is executed, and the output is produced. You can see the output immediately below the code cell. \n",
    "\n",
    "<img \n",
    "src=\"https://github.com/sathayas/JupyterPythonFall2017/blob/master/images/Jupyter_Output.png?raw=true\" alt=\"Output example\" width=\"800\">\n",
    "\n",
    "### Editing and re-running a code cell\n",
    "You can edit and re-run the code within the notebook as well. Just click on the text of the code cell (so that it's green) and make an edit. \n",
    "\n",
    "<img \n",
    "src=\"https://github.com/sathayas/JupyterPythonFall2017/blob/master/images/Jupyter_EditCell.png?raw=true\" alt=\"Edit the code cell\" width=\"800\">\n",
    "\n",
    "Here, I am changing the variable **`yourname`** from **`Satoru`** to **`Hayasaka`**. Then I can just re-run the code by clicking on the run button again.\n",
    "\n",
    "<img \n",
    "src=\"https://github.com/sathayas/JupyterPythonFall2017/blob/master/images/Jupyter_RerunCell.png?raw=true\" alt=\"Output from a modified code\" width=\"800\">\n",
    "\n",
    "Jupyter notebook by default auto-saves any edits frequently. You can also click on the Save button to save any changes made to your Jupyter notebook.\n",
    "\n",
    "### Closing a Jupyter notebook\n",
    "When you are done with a Jupyter notebook, there are multiple ways to **close** it. This is the way I do it:\n",
    "\n",
    "  1. Go to Terminal or Command Prompt, and press CTRL-C.\n",
    "  2. When asked to shutdown the notebook server, answer **`y`**.\n",
    "  3. You should see a message saying that the kernel is dead. You just click on **Don't Restart** at that point. \n",
    "  4. Close the browser window associated with the Jupyter notebook.\n",
    "  5. If you do not see a prompt in the Terminal or Command Prompt window, press CTRL-C one more time.\n",
    "\n"
   ]
  }
 ],
 "metadata": {
  "kernelspec": {
   "display_name": "Python 3",
   "language": "python",
   "name": "python3"
  },
  "language_info": {
   "codemirror_mode": {
    "name": "ipython",
    "version": 3
   },
   "file_extension": ".py",
   "mimetype": "text/x-python",
   "name": "python",
   "nbconvert_exporter": "python",
   "pygments_lexer": "ipython3",
   "version": "3.5.5"
  }
 },
 "nbformat": 4,
 "nbformat_minor": 2
}
