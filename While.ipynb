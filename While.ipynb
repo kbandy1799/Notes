{
 "cells": [
  {
   "cell_type": "markdown",
   "metadata": {},
   "source": [
    "<p style=\"text-align:center\">\n",
    "PSY 394U <b>Python Coding for Psychological Sciences</b>, Fall 2017\n",
    "\n",
    "<img src=\"https://www.python.org/static/community_logos/python-logo-master-v3-TM.png\" alt=\"Python logo\" width=\"200\">\n",
    "</p>\n",
    "\n",
    "<h1 style=\"text-align:center\"> While loop </h1>\n",
    "\n",
    "<h4 style=\"text-align:center\"> September 12, 2017 </h4>\n",
    "<hr style=\"height:5px;border:none\" />\n",
    "<p>"
   ]
  },
  {
   "cell_type": "markdown",
   "metadata": {},
   "source": [
    "# 1. While statement basic\n",
    "<hr style=\"height:1px;border:none\" />"
   ]
  },
  {
   "cell_type": "markdown",
   "metadata": {},
   "source": [
    "During the last class, we learned about `if`, `else`, and `elif` statements. These\n",
    "statements execute a block of codes only once, depending on whether a\n",
    "condition is met. What if you want to repeat a block as long as the condition is\n",
    "met? We use a **`while`** loop for that purpose.\n",
    "\n",
    "```python\n",
    "while [Condition]:\n",
    "    [Execute something]\n",
    "```\n",
    "\n",
    "Here is an example of a while loop."
   ]
  },
  {
   "cell_type": "markdown",
   "metadata": {},
   "source": [
    "`<YourName.py>`"
   ]
  },
  {
   "cell_type": "code",
   "execution_count": null,
   "metadata": {},
   "outputs": [],
   "source": [
    "name = ''                           \n",
    "while name != 'your name':          \n",
    "    name = input('Please type your name. ')                  \n",
    "print('Thank you!')                 "
   ]
  },
  {
   "cell_type": "markdown",
   "metadata": {},
   "source": [
    "In this program, the `while` loop is repeated until you type 'your name',\n",
    "literally. Here is another example of the `while` loop."
   ]
  },
  {
   "cell_type": "markdown",
   "metadata": {},
   "source": [
    "`<SecurityCode.py>`"
   ]
  },
  {
   "cell_type": "code",
   "execution_count": null,
   "metadata": {
    "collapsed": true
   },
   "outputs": [],
   "source": [
    "# the secret security code\n",
    "securityCode = '8577'\n",
    "# ask the user to enter a code\n",
    "userCode = input('Please enter the security code ')\n",
    "\n",
    "# the while loop\n",
    "while userCode != securityCode:\n",
    "\n",
    "    # printing out a message depending on the entered code\n",
    "    if userCode == '1234' or userCode == '9999':\n",
    "        print('That is not a secure security code!')\n",
    "    else:\n",
    "        print('Invalid security code! Try again.')\n",
    "\n",
    "    # asking the user to re-enter the code\n",
    "    userCode = input('Please enter the security code ')\n",
    "    \n",
    "# After you figure out the security code\n",
    "print('Congrats! You entered the correct security code!')"
   ]
  },
  {
   "cell_type": "markdown",
   "metadata": {},
   "source": [
    "In this program, the `while` loop is repeated as long as the entered code does\n",
    "not match the true security code."
   ]
  },
  {
   "cell_type": "markdown",
   "metadata": {},
   "source": [
    "### Exercise\n",
    "1. **Guessing a word**. Write a program that keep asking the user to enter a word until the secret password (of your own choosing) is entered. Your program should output whether or not an entered word matches the secret password.\n",
    "2. **Charging a phone**. When plugged in, your phone’s battery charges 3% every 10 minutes. Using a while loop, simulate the progress on charging of your phone until it is fully charged.\n",
    "  - Your phone’s battery is now at 16%.\n",
    "  - Inside the while loop, print out how much the battery is charged.\n",
    "  - When the battery is fully charged, print out a message saying that the battery is fully charged."
   ]
  },
  {
   "cell_type": "markdown",
   "metadata": {},
   "source": [
    "# 2. Break\n",
    "<hr style=\"height:1px;border:none\" />"
   ]
  },
  {
   "cell_type": "markdown",
   "metadata": {},
   "source": [
    "Using a **`break`** statement, you can exit a `while` loop. This is very helpful if you want to exit the `while` loop as soon as the condition is met, as opposed to doing all the rest of stuff in the `while` loop. Here is a revised version of an earlier example with a `break` statement."
   ]
  },
  {
   "cell_type": "markdown",
   "metadata": {},
   "source": [
    "`<YourNameBreak.py>`"
   ]
  },
  {
   "cell_type": "code",
   "execution_count": null,
   "metadata": {
    "collapsed": true
   },
   "outputs": [],
   "source": [
    "while True:\n",
    "    name = input('Please type your name. ')\n",
    "    if name=='your name':\n",
    "        break\n",
    "print('Thank you!')                 "
   ]
  },
  {
   "cell_type": "markdown",
   "metadata": {},
   "source": [
    "The statement **`while True:`** creates an infinite loop. That means inside the `while` loop is repeated indefinitely. A `break` statement is the only way out."
   ]
  },
  {
   "cell_type": "markdown",
   "metadata": {},
   "source": [
    "### Exercise\n",
    "1. **Guessing a word, revisited**. Rewrite the program from the earlier exercise (guessing a word) with a `break` statement inside a `while` loop.\n",
    "2. **Charging a phone, revisited**. Rewrite the program from the earlier exercise (charging a phone) with a `break` statement inside a `while` loop."
   ]
  },
  {
   "cell_type": "markdown",
   "metadata": {},
   "source": [
    "# 3. Continue\n",
    "<hr style=\"height:1px;border:none\" />"
   ]
  },
  {
   "cell_type": "markdown",
   "metadata": {},
   "source": [
    "Using a **`continue`** statement, we can go back to the beginning of the `while` loop.\n",
    "Here is an example of a continue statement."
   ]
  },
  {
   "cell_type": "markdown",
   "metadata": {},
   "source": [
    "`<ContinueExample.py>`"
   ]
  },
  {
   "cell_type": "code",
   "execution_count": null,
   "metadata": {},
   "outputs": [],
   "source": [
    "while True:\n",
    "  print('Who are you?')\n",
    "  name = input()\n",
    "  if name != 'Joe':\n",
    "    continue\n",
    "  print('Hello, Joe. What is the password? (It is a fish.)') \n",
    "  password = input()\n",
    "  if password == 'swordfish':\n",
    "    break\n",
    "print('Access granted.')"
   ]
  },
  {
   "cell_type": "markdown",
   "metadata": {},
   "source": [
    "In this program, if the name is not Joe, then the `while` loop re-starts with a\n",
    "`continue` statement. If the name is Joe, then the program asks for a password."
   ]
  },
  {
   "cell_type": "markdown",
   "metadata": {},
   "source": [
    "### Exercise\n",
    "1. **Name and favorite color**. Write a program using a `while` loop with a `continue` statement and a `break` statement to do the following. The program asks the user to enter a name. The program keeps asking the user to enter a name until it matches the correct name (of your choosing). If the correct name is entered, then the program asks for a favorite color. If the entered color matches the correct color (of your choosing), then it breaks out of the `while` loop and prints out a message \"congrats!\" If the entered color does not match the correct color, it prints out the message \"sorry, wrong color\" and the program starts over by asking for a name again"
   ]
  }
 ],
 "metadata": {
  "kernelspec": {
   "display_name": "Python 3",
   "language": "python",
   "name": "python3"
  },
  "language_info": {
   "codemirror_mode": {
    "name": "ipython",
    "version": 3
   },
   "file_extension": ".py",
   "mimetype": "text/x-python",
   "name": "python",
   "nbconvert_exporter": "python",
   "pygments_lexer": "ipython3",
   "version": "3.4.5"
  }
 },
 "nbformat": 4,
 "nbformat_minor": 2
}
